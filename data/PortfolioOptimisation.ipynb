{
 "cells": [
  {
   "cell_type": "code",
   "execution_count": 1,
   "metadata": {},
   "outputs": [],
   "source": [
    "import io\n",
    "import numpy as np\n",
    "import pandas as pd\n",
    "import yfinance as yf\n",
    "\n",
    "import matplotlib.pyplot as plt\n",
    "import plotly.graph_objects as go\n",
    "import plotly.express as px\n",
    "from plotly.subplots import make_subplots\n",
    "import plotly.figure_factory as ff"
   ]
  },
  {
   "cell_type": "code",
   "execution_count": 2,
   "metadata": {},
   "outputs": [
    {
     "data": {
      "text/html": [
       "<div>\n",
       "<style scoped>\n",
       "    .dataframe tbody tr th:only-of-type {\n",
       "        vertical-align: middle;\n",
       "    }\n",
       "\n",
       "    .dataframe tbody tr th {\n",
       "        vertical-align: top;\n",
       "    }\n",
       "\n",
       "    .dataframe thead th {\n",
       "        text-align: right;\n",
       "    }\n",
       "</style>\n",
       "<table border=\"1\" class=\"dataframe\">\n",
       "  <thead>\n",
       "    <tr style=\"text-align: right;\">\n",
       "      <th></th>\n",
       "      <th>0</th>\n",
       "      <th>1</th>\n",
       "      <th>2</th>\n",
       "      <th>3</th>\n",
       "      <th>4</th>\n",
       "      <th>5</th>\n",
       "      <th>6</th>\n",
       "      <th>7</th>\n",
       "      <th>8</th>\n",
       "      <th>9</th>\n",
       "      <th>...</th>\n",
       "      <th>73</th>\n",
       "      <th>74</th>\n",
       "      <th>75</th>\n",
       "      <th>76</th>\n",
       "      <th>77</th>\n",
       "      <th>78</th>\n",
       "      <th>79</th>\n",
       "      <th>80</th>\n",
       "      <th>81</th>\n",
       "      <th>82</th>\n",
       "    </tr>\n",
       "  </thead>\n",
       "  <tbody>\n",
       "    <tr>\n",
       "      <th>0</th>\n",
       "      <td>-0.005763</td>\n",
       "      <td>-0.026772</td>\n",
       "      <td>-0.087660</td>\n",
       "      <td>0.026042</td>\n",
       "      <td>-0.003650</td>\n",
       "      <td>-0.074595</td>\n",
       "      <td>-0.057377</td>\n",
       "      <td>-0.084338</td>\n",
       "      <td>-0.084821</td>\n",
       "      <td>0.081127</td>\n",
       "      <td>...</td>\n",
       "      <td>-0.049128</td>\n",
       "      <td>-0.094203</td>\n",
       "      <td>0.000000</td>\n",
       "      <td>-0.083417</td>\n",
       "      <td>0.109715</td>\n",
       "      <td>-0.025634</td>\n",
       "      <td>0.015899</td>\n",
       "      <td>-0.014392</td>\n",
       "      <td>0.042297</td>\n",
       "      <td>-0.010116</td>\n",
       "    </tr>\n",
       "    <tr>\n",
       "      <th>1</th>\n",
       "      <td>0.058059</td>\n",
       "      <td>0.113269</td>\n",
       "      <td>0.175373</td>\n",
       "      <td>0.096116</td>\n",
       "      <td>0.076657</td>\n",
       "      <td>0.120327</td>\n",
       "      <td>0.010870</td>\n",
       "      <td>0.102639</td>\n",
       "      <td>0.154634</td>\n",
       "      <td>0.130871</td>\n",
       "      <td>...</td>\n",
       "      <td>-0.029639</td>\n",
       "      <td>0.160000</td>\n",
       "      <td>-0.083081</td>\n",
       "      <td>-0.021158</td>\n",
       "      <td>-0.019817</td>\n",
       "      <td>0.030551</td>\n",
       "      <td>-0.021737</td>\n",
       "      <td>0.003431</td>\n",
       "      <td>0.004292</td>\n",
       "      <td>-0.065693</td>\n",
       "    </tr>\n",
       "    <tr>\n",
       "      <th>2</th>\n",
       "      <td>-0.037039</td>\n",
       "      <td>0.035610</td>\n",
       "      <td>-0.026984</td>\n",
       "      <td>-0.077318</td>\n",
       "      <td>-0.144086</td>\n",
       "      <td>-0.012513</td>\n",
       "      <td>-0.053763</td>\n",
       "      <td>-0.031031</td>\n",
       "      <td>-0.013519</td>\n",
       "      <td>-0.117281</td>\n",
       "      <td>...</td>\n",
       "      <td>-0.014870</td>\n",
       "      <td>-0.006897</td>\n",
       "      <td>-0.178512</td>\n",
       "      <td>0.004320</td>\n",
       "      <td>-0.009998</td>\n",
       "      <td>-0.049396</td>\n",
       "      <td>0.000881</td>\n",
       "      <td>-0.068494</td>\n",
       "      <td>-0.036105</td>\n",
       "      <td>0.003123</td>\n",
       "    </tr>\n",
       "    <tr>\n",
       "      <th>3</th>\n",
       "      <td>0.055546</td>\n",
       "      <td>-0.002807</td>\n",
       "      <td>0.093801</td>\n",
       "      <td>0.044626</td>\n",
       "      <td>0.089131</td>\n",
       "      <td>0.062302</td>\n",
       "      <td>0.011364</td>\n",
       "      <td>0.067736</td>\n",
       "      <td>0.018844</td>\n",
       "      <td>0.013110</td>\n",
       "      <td>...</td>\n",
       "      <td>0.052459</td>\n",
       "      <td>-0.055556</td>\n",
       "      <td>-0.051674</td>\n",
       "      <td>0.058668</td>\n",
       "      <td>-0.050943</td>\n",
       "      <td>0.096973</td>\n",
       "      <td>0.014222</td>\n",
       "      <td>0.087317</td>\n",
       "      <td>0.034290</td>\n",
       "      <td>0.004675</td>\n",
       "    </tr>\n",
       "    <tr>\n",
       "      <th>4</th>\n",
       "      <td>0.037787</td>\n",
       "      <td>0.035890</td>\n",
       "      <td>0.021626</td>\n",
       "      <td>0.163150</td>\n",
       "      <td>0.064524</td>\n",
       "      <td>0.053678</td>\n",
       "      <td>0.024719</td>\n",
       "      <td>0.035753</td>\n",
       "      <td>-0.121480</td>\n",
       "      <td>0.033673</td>\n",
       "      <td>...</td>\n",
       "      <td>0.046823</td>\n",
       "      <td>0.077206</td>\n",
       "      <td>0.036358</td>\n",
       "      <td>0.023387</td>\n",
       "      <td>-0.172145</td>\n",
       "      <td>0.128671</td>\n",
       "      <td>0.077061</td>\n",
       "      <td>0.014368</td>\n",
       "      <td>0.068786</td>\n",
       "      <td>0.062015</td>\n",
       "    </tr>\n",
       "  </tbody>\n",
       "</table>\n",
       "<p>5 rows × 83 columns</p>\n",
       "</div>"
      ],
      "text/plain": [
       "         0         1         2         3         4         5         6   \\\n",
       "0 -0.005763 -0.026772 -0.087660  0.026042 -0.003650 -0.074595 -0.057377   \n",
       "1  0.058059  0.113269  0.175373  0.096116  0.076657  0.120327  0.010870   \n",
       "2 -0.037039  0.035610 -0.026984 -0.077318 -0.144086 -0.012513 -0.053763   \n",
       "3  0.055546 -0.002807  0.093801  0.044626  0.089131  0.062302  0.011364   \n",
       "4  0.037787  0.035890  0.021626  0.163150  0.064524  0.053678  0.024719   \n",
       "\n",
       "         7         8         9   ...        73        74        75        76  \\\n",
       "0 -0.084338 -0.084821  0.081127  ... -0.049128 -0.094203  0.000000 -0.083417   \n",
       "1  0.102639  0.154634  0.130871  ... -0.029639  0.160000 -0.083081 -0.021158   \n",
       "2 -0.031031 -0.013519 -0.117281  ... -0.014870 -0.006897 -0.178512  0.004320   \n",
       "3  0.067736  0.018844  0.013110  ...  0.052459 -0.055556 -0.051674  0.058668   \n",
       "4  0.035753 -0.121480  0.033673  ...  0.046823  0.077206  0.036358  0.023387   \n",
       "\n",
       "         77        78        79        80        81        82  \n",
       "0  0.109715 -0.025634  0.015899 -0.014392  0.042297 -0.010116  \n",
       "1 -0.019817  0.030551 -0.021737  0.003431  0.004292 -0.065693  \n",
       "2 -0.009998 -0.049396  0.000881 -0.068494 -0.036105  0.003123  \n",
       "3 -0.050943  0.096973  0.014222  0.087317  0.034290  0.004675  \n",
       "4 -0.172145  0.128671  0.077061  0.014368  0.068786  0.062015  \n",
       "\n",
       "[5 rows x 83 columns]"
      ]
     },
     "execution_count": 2,
     "metadata": {},
     "output_type": "execute_result"
    }
   ],
   "source": [
    "df = pd.read_csv('asset_returns.csv', names=[i for i in range(83)])\n",
    "daily_returns = df.fillna(0)\n",
    "daily_returns.head()"
   ]
  },
  {
   "cell_type": "code",
   "execution_count": 3,
   "metadata": {},
   "outputs": [],
   "source": [
    "def optimal_weights(rets, target_return):\n",
    "    mean_return = rets.mean().to_numpy().reshape(-1, 1)\n",
    "    daily_cov = rets.cov().to_numpy()\n",
    "    e = np.ones(len(mean_return)).reshape(-1, 1)\n",
    "    result = []\n",
    "    for r_p in target_return:\n",
    "        \n",
    "        top_row = np.hstack((daily_cov, -mean_return, -e))\n",
    "        middle_row = np.hstack((-mean_return.T, np.zeros((1, 1)), np.zeros((1, 1))))\n",
    "        bottom_row = np.hstack((-e.T, np.zeros((1, 1)), np.zeros((1, 1))))\n",
    "\n",
    "        A = np.vstack((top_row, middle_row, bottom_row))\n",
    "        b = np.vstack((np.zeros((len(mean_return), 1)), -r_p, -1))\n",
    "\n",
    "        # Solve the linear system\n",
    "        try:\n",
    "            x = np.linalg.solve(A, b)\n",
    "            result.append(x.flatten())\n",
    "        except np.linalg.LinAlgError as err:\n",
    "            print(f\"Cannot solve linear system for target return {r_p}: {err}\")\n",
    "            continue\n",
    "\n",
    "    results_df = pd.DataFrame(result, columns=[f\"Asset {i+1}\" for i in range(len(mean_return))] + [\"Lambda\", \"Mu\"])\n",
    "    results_df.set_index(target_return, inplace=True)\n",
    "    return results_df"
   ]
  },
  {
   "cell_type": "markdown",
   "metadata": {},
   "source": [
    "### Actual average returns, backtesting:\n",
    "\n",
    "$ \\overline{r}^\\top w $ - actual average returns\n",
    "\n",
    "$ w^\\top \\Sigma w^\\top $ - portfolio covariance \n",
    "\n",
    "where $w$ denote the optimal portfolio, $\\overline{r}$ denote the average return over\n",
    "the out-of-sample period, and $\\Sigma$ denote the out of sample covariance matrix.\n"
   ]
  },
  {
   "cell_type": "code",
   "execution_count": 4,
   "metadata": {},
   "outputs": [],
   "source": [
    "def backtesting(optimal_weights, OOS_rets, target_return):\n",
    "    mean_return_OOS = OOS_rets.mean().to_numpy().reshape(-1, 1)\n",
    "    daily_cov_OOS = OOS_rets.cov().to_numpy()\n",
    "    arr = optimal_weights.to_numpy()\n",
    "    res = []\n",
    "\n",
    "    for index, row in enumerate(arr):\n",
    "        weights = row[:-2]\n",
    "        targ_ret = target_return[index]\n",
    "        act_ave_return = (mean_return_OOS.T @ weights).item()\n",
    "        pf_cov = weights.T @ daily_cov_OOS @ weights\n",
    "        res.append([targ_ret, act_ave_return, pf_cov])\n",
    "    \n",
    "    return np.array(res)"
   ]
  },
  {
   "cell_type": "markdown",
   "metadata": {},
   "source": [
    "# Main"
   ]
  },
  {
   "cell_type": "code",
   "execution_count": 5,
   "metadata": {},
   "outputs": [],
   "source": [
    "target_return = np.linspace(0, 0.1, 21)\n",
    "\n",
    "results_dict = {}\n",
    "# N = len(range(0, daily_returns.shape[0]-100, 12))\n",
    "for i in range(0, daily_returns.shape[0]-100, 12):\n",
    "    index = int(i/12)\n",
    "    start, mid, end = i, i+100, i +112\n",
    "    daily_returns_IS = daily_returns.iloc[start:mid,:]\n",
    "    daily_returns_OOS = daily_returns.iloc[mid:end]\n",
    "    df_weights = optimal_weights(daily_returns_IS, target_return)\n",
    "    df_act_returns = backtesting(df_weights, daily_returns_OOS, target_return)\n",
    "    results_dict[index] = (pd.DataFrame(df_act_returns, columns=['target_return', 'Actual Average Return', 'Portfolio Covariance']).set_index('target_return'),\\\n",
    "                           df_weights)"
   ]
  },
  {
   "cell_type": "code",
   "execution_count": 6,
   "metadata": {},
   "outputs": [
    {
     "data": {
      "text/html": [
       "<div>\n",
       "<style scoped>\n",
       "    .dataframe tbody tr th:only-of-type {\n",
       "        vertical-align: middle;\n",
       "    }\n",
       "\n",
       "    .dataframe tbody tr th {\n",
       "        vertical-align: top;\n",
       "    }\n",
       "\n",
       "    .dataframe thead th {\n",
       "        text-align: right;\n",
       "    }\n",
       "</style>\n",
       "<table border=\"1\" class=\"dataframe\">\n",
       "  <thead>\n",
       "    <tr style=\"text-align: right;\">\n",
       "      <th></th>\n",
       "      <th>Actual Average Return</th>\n",
       "      <th>Portfolio Covariance</th>\n",
       "    </tr>\n",
       "    <tr>\n",
       "      <th>target_return</th>\n",
       "      <th></th>\n",
       "      <th></th>\n",
       "    </tr>\n",
       "  </thead>\n",
       "  <tbody>\n",
       "    <tr>\n",
       "      <th>0.000</th>\n",
       "      <td>0.000454</td>\n",
       "      <td>0.000610</td>\n",
       "    </tr>\n",
       "    <tr>\n",
       "      <th>0.005</th>\n",
       "      <td>0.007940</td>\n",
       "      <td>0.001061</td>\n",
       "    </tr>\n",
       "    <tr>\n",
       "      <th>0.010</th>\n",
       "      <td>0.015426</td>\n",
       "      <td>0.001802</td>\n",
       "    </tr>\n",
       "    <tr>\n",
       "      <th>0.015</th>\n",
       "      <td>0.022912</td>\n",
       "      <td>0.002831</td>\n",
       "    </tr>\n",
       "    <tr>\n",
       "      <th>0.020</th>\n",
       "      <td>0.030398</td>\n",
       "      <td>0.004150</td>\n",
       "    </tr>\n",
       "    <tr>\n",
       "      <th>0.025</th>\n",
       "      <td>0.037885</td>\n",
       "      <td>0.005757</td>\n",
       "    </tr>\n",
       "    <tr>\n",
       "      <th>0.030</th>\n",
       "      <td>0.045371</td>\n",
       "      <td>0.007654</td>\n",
       "    </tr>\n",
       "    <tr>\n",
       "      <th>0.035</th>\n",
       "      <td>0.052857</td>\n",
       "      <td>0.009839</td>\n",
       "    </tr>\n",
       "    <tr>\n",
       "      <th>0.040</th>\n",
       "      <td>0.060343</td>\n",
       "      <td>0.012313</td>\n",
       "    </tr>\n",
       "    <tr>\n",
       "      <th>0.045</th>\n",
       "      <td>0.067829</td>\n",
       "      <td>0.015077</td>\n",
       "    </tr>\n",
       "    <tr>\n",
       "      <th>0.050</th>\n",
       "      <td>0.075315</td>\n",
       "      <td>0.018129</td>\n",
       "    </tr>\n",
       "    <tr>\n",
       "      <th>0.055</th>\n",
       "      <td>0.082801</td>\n",
       "      <td>0.021471</td>\n",
       "    </tr>\n",
       "    <tr>\n",
       "      <th>0.060</th>\n",
       "      <td>0.090288</td>\n",
       "      <td>0.025101</td>\n",
       "    </tr>\n",
       "    <tr>\n",
       "      <th>0.065</th>\n",
       "      <td>0.097774</td>\n",
       "      <td>0.029021</td>\n",
       "    </tr>\n",
       "    <tr>\n",
       "      <th>0.070</th>\n",
       "      <td>0.105260</td>\n",
       "      <td>0.033229</td>\n",
       "    </tr>\n",
       "    <tr>\n",
       "      <th>0.075</th>\n",
       "      <td>0.112746</td>\n",
       "      <td>0.037727</td>\n",
       "    </tr>\n",
       "    <tr>\n",
       "      <th>0.080</th>\n",
       "      <td>0.120232</td>\n",
       "      <td>0.042513</td>\n",
       "    </tr>\n",
       "    <tr>\n",
       "      <th>0.085</th>\n",
       "      <td>0.127718</td>\n",
       "      <td>0.047589</td>\n",
       "    </tr>\n",
       "    <tr>\n",
       "      <th>0.090</th>\n",
       "      <td>0.135204</td>\n",
       "      <td>0.052953</td>\n",
       "    </tr>\n",
       "    <tr>\n",
       "      <th>0.095</th>\n",
       "      <td>0.142690</td>\n",
       "      <td>0.058606</td>\n",
       "    </tr>\n",
       "    <tr>\n",
       "      <th>0.100</th>\n",
       "      <td>0.150177</td>\n",
       "      <td>0.064549</td>\n",
       "    </tr>\n",
       "  </tbody>\n",
       "</table>\n",
       "</div>"
      ],
      "text/plain": [
       "               Actual Average Return  Portfolio Covariance\n",
       "target_return                                             \n",
       "0.000                       0.000454              0.000610\n",
       "0.005                       0.007940              0.001061\n",
       "0.010                       0.015426              0.001802\n",
       "0.015                       0.022912              0.002831\n",
       "0.020                       0.030398              0.004150\n",
       "0.025                       0.037885              0.005757\n",
       "0.030                       0.045371              0.007654\n",
       "0.035                       0.052857              0.009839\n",
       "0.040                       0.060343              0.012313\n",
       "0.045                       0.067829              0.015077\n",
       "0.050                       0.075315              0.018129\n",
       "0.055                       0.082801              0.021471\n",
       "0.060                       0.090288              0.025101\n",
       "0.065                       0.097774              0.029021\n",
       "0.070                       0.105260              0.033229\n",
       "0.075                       0.112746              0.037727\n",
       "0.080                       0.120232              0.042513\n",
       "0.085                       0.127718              0.047589\n",
       "0.090                       0.135204              0.052953\n",
       "0.095                       0.142690              0.058606\n",
       "0.100                       0.150177              0.064549"
      ]
     },
     "execution_count": 6,
     "metadata": {},
     "output_type": "execute_result"
    }
   ],
   "source": [
    "results_dict[0][0]"
   ]
  },
  {
   "cell_type": "code",
   "execution_count": 7,
   "metadata": {},
   "outputs": [],
   "source": [
    "# Read the main CSV file and set the index\n",
    "cpp_results = pd.read_csv('../cmake-build-debug/output_data.csv').set_index('ID')\n",
    "\n",
    "# Function to convert space-separated values to semicolon-separated values\n",
    "def convert_to_csv_format(data_str, x):\n",
    "    values = data_str.replace(';', ' ').split()\n",
    "    # Combine into semicolon-separated string\n",
    "    csv_str = \"\\n\".join(\";\".join(values[i:i+x]) for i in range(0, len(values), x))\n",
    "    return csv_str\n",
    "\n",
    "# Initialize an empty dictionary to store the parsed results\n",
    "# Size 50: (df(21*2), df(21*85))\n",
    "cpp_results_dict = {}\n",
    "\n",
    "# Iterate through each row of the DataFrame\n",
    "for index, (back_test_data, weights_data) in cpp_results.iterrows():\n",
    "    try:\n",
    "        # Parse the CSV data\n",
    "        back_test_df = pd.read_csv(io.StringIO(convert_to_csv_format(back_test_data, 3)), header=None, sep=';').set_index(0)\n",
    "        weights_df = pd.read_csv(io.StringIO(convert_to_csv_format(weights_data, 85)), header=None, sep=';')\n",
    "        back_test_df.columns = ['Actual Average Return', 'Portfolio Covariance']\n",
    "        weights_df.columns = [f\"Asset {i+1}\" for i in range(83)] + [\"Lambda\", \"Mu\"]\n",
    "        \n",
    "        cpp_results_dict[index] = (back_test_df, weights_df)\n",
    "    except Exception as e:\n",
    "        print(f\"Error processing index {index}: {e}\")\n"
   ]
  },
  {
   "cell_type": "code",
   "execution_count": 8,
   "metadata": {},
   "outputs": [],
   "source": [
    "def plt1(x=cpp_results_dict):\n",
    "    plot_data = {key: [] for key in np.linspace(0, 0.1, 21)}\n",
    "    # Iterate through the dictionary and plot each series as a line\n",
    "    for key, (df1, df2) in x.items():\n",
    "        for i in df1.iterrows():\n",
    "            plot_data[i[0]].append(i[1]['Actual Average Return'])\n",
    "\n",
    "    plt.figure(figsize=(14, 7))\n",
    "    for key, values in plot_data.items():\n",
    "        plt.plot(range(len(values)), values, label=f'{key}', alpha=0.8)\n",
    "\n",
    "    # Enhancing the plot for professional presentation\n",
    "    plt.xlabel('Window Index', fontsize=12)\n",
    "    plt.ylabel('Actual Average Return', fontsize=12)\n",
    "    plt.title('Realised Rolling Window Average OOS Return for each Target', fontsize=14)\n",
    "    plt.legend(bbox_to_anchor=(1.05, 1), loc='upper left', fontsize=10)\n",
    "    plt.grid(True)\n",
    "    plt.xticks(fontsize=10)\n",
    "    plt.yticks(fontsize=10)\n",
    "\n",
    "    # Tight layout for better spacing\n",
    "    plt.tight_layout()\n",
    "\n",
    "    # plt.savefig('Realised_Rolling_Window_Average_OOS_Return.png')\n",
    "\n",
    "    # Show the plot\n",
    "    plt.show()"
   ]
  },
  {
   "cell_type": "code",
   "execution_count": 9,
   "metadata": {},
   "outputs": [
    {
     "data": {
      "image/png": "[encoded data removed]",
      "text/plain": [
       "<Figure size 1400x700 with 1 Axes>"
      ]
     },
     "metadata": {},
     "output_type": "display_data"
    }
   ],
   "source": [
    "plt1()"
   ]
  },
  {
   "cell_type": "code",
   "execution_count": 10,
   "metadata": {},
   "outputs": [],
   "source": [
    "# Function to plot the efficient frontier using Plotly\n",
    "def plot_efficient_frontier(backtest_period, OOS, opt_weights_df, save_path=None):\n",
    "    # Extract the corresponding out-of-sample daily returns data\n",
    "    start_idx = backtest_period * 12 + 100\n",
    "    end_idx = 100 + (backtest_period + 1) * 12\n",
    "    OOS = OOS.iloc[start_idx:end_idx, :]\n",
    "    opt_weights_df = opt_weights_df[backtest_period][1].iloc[:, :-2]\n",
    "\n",
    "    # Prepare data for plotting\n",
    "    expected_returns, cov_matrix = OOS.mean() * 252, OOS.cov() * 252\n",
    "    \n",
    "    # Create the figure\n",
    "    fig = go.Figure()\n",
    "\n",
    "    # Add scatter plot for optimal portfolios with color scale based on target returns\n",
    "    target_returns = opt_weights_df.index / 200\n",
    "    fig.add_trace(go.Scatter(\n",
    "        x=[np.dot(weights, np.dot(cov_matrix, weights))**0.5 for idx, weights in opt_weights_df.iterrows()],\n",
    "        y=[np.dot(weights, expected_returns) for idx, weights in opt_weights_df.iterrows()],\n",
    "        mode='markers',\n",
    "        marker=dict(\n",
    "            size=12,\n",
    "            color=target_returns,\n",
    "            colorscale=\"RdBu\",\n",
    "            colorbar=dict(title=\"Target Return\")\n",
    "        ),\n",
    "        name='Optimal Portfolios'\n",
    "    ))\n",
    "\n",
    "    # Update layout\n",
    "    fig.update_layout(\n",
    "        template='plotly_white',  # Generic formatting\n",
    "        xaxis=dict(title='Annualised Risk (Volatility)'),\n",
    "        yaxis=dict(title='Annualised Return'),\n",
    "        title=f'Efficient Frontier with Optimal Portfolios (Backtest Period {backtest_period})',\n",
    "        width=850,\n",
    "        height=500\n",
    "    )\n",
    "\n",
    "    # Save the figure if a save path is provided\n",
    "    if save_path:\n",
    "        fig.write_image(save_path)\n",
    "\n",
    "    fig.show()"
   ]
  },
  {
   "cell_type": "code",
   "execution_count": 11,
   "metadata": {},
   "outputs": [
    {
     "data": {
      "application/vnd.plotly.v1+json": {
       "config": {
        "plotlyServerURL": "https://plot.ly"
       },
       "data": [
        {
         "marker": {
          "color": [
           0,
           0.005,
           0.01,
           0.015,
           0.02,
           0.025,
           0.03,
           0.035,
           0.04,
           0.045,
           0.05,
           0.055,
           0.06,
           0.065,
           0.07,
           0.075,
           0.08,
           0.085,
           0.09,
           0.095,
           0.1
          ],
          "colorbar": {
           "title": {
            "text": "Target Return"
           }
          },
          "colorscale": [
           [
            0,
            "rgb(103,0,31)"
           ],
           [
            0.1,
            "rgb(178,24,43)"
           ],
           [
            0.2,
            "rgb(214,96,77)"
           ],
           [
            0.3,
            "rgb(244,165,130)"
           ],
           [
            0.4,
            "rgb(253,219,199)"
           ],
           [
            0.5,
            "rgb(247,247,247)"
           ],
           [
            0.6,
            "rgb(209,229,240)"
           ],
           [
            0.7,
            "rgb(146,197,222)"
           ],
           [
            0.8,
            "rgb(67,147,195)"
           ],
           [
            0.9,
            "rgb(33,102,172)"
           ],
           [
            1,
            "rgb(5,48,97)"
           ]
          ],
          "size": 12
         },
         "mode": "markers",
         "name": "Optimal Portfolios",
         "type": "scatter",
         "x": [
          0.45468810442915814,
          0.5369484836691141,
          0.718188589596398,
          0.9481483898130806,
          1.1912859202343635,
          1.4380998016826492,
          1.6952821998836103,
          1.9567078044781643,
          2.229621555446907,
          2.495227542062081,
          2.739267803891205,
          3.012943896847842,
          3.2739255050287817,
          3.5596330726985514,
          3.801540109277374,
          4.097296596535494,
          4.34132247785043,
          4.637000934339358,
          4.897491759388815,
          5.1327903260450425,
          5.41532461628772
         ],
         "y": [
          2.6852638852089914,
          3.2271200413792407,
          3.7698032046926335,
          4.334230364935167,
          4.877980022755702,
          5.4055322874815275,
          5.937720860766194,
          6.477278614050394,
          6.999471851325401,
          7.51670926666988,
          8.221740287736631,
          8.587351314573066,
          9.14598701948116,
          9.597985117663532,
          10.594052663789649,
          10.641861948621978,
          11.293576651028818,
          11.674322923307209,
          12.237436526525272,
          13.229042563561343,
          13.376514344502107
         ]
        }
       ],
       "layout": {
        "height": 500,
        "template": {
         "data": {
          "bar": [
           {
            "error_x": {
             "color": "#2a3f5f"
            },
            "error_y": {
             "color": "#2a3f5f"
            },
            "marker": {
             "line": {
              "color": "white",
              "width": 0.5
             },
             "pattern": {
              "fillmode": "overlay",
              "size": 10,
              "solidity": 0.2
             }
            },
            "type": "bar"
           }
          ],
          "barpolar": [
           {
            "marker": {
             "line": {
              "color": "white",
              "width": 0.5
             },
             "pattern": {
              "fillmode": "overlay",
              "size": 10,
              "solidity": 0.2
             }
            },
            "type": "barpolar"
           }
          ],
          "carpet": [
           {
            "aaxis": {
             "endlinecolor": "#2a3f5f",
             "gridcolor": "#C8D4E3",
             "linecolor": "#C8D4E3",
             "minorgridcolor": "#C8D4E3",
             "startlinecolor": "#2a3f5f"
            },
            "baxis": {
             "endlinecolor": "#2a3f5f",
             "gridcolor": "#C8D4E3",
             "linecolor": "#C8D4E3",
             "minorgridcolor": "#C8D4E3",
             "startlinecolor": "#2a3f5f"
            },
            "type": "carpet"
           }
          ],
          "choropleth": [
           {
            "colorbar": {
             "outlinewidth": 0,
             "ticks": ""
            },
            "type": "choropleth"
           }
          ],
          "contour": [
           {
            "colorbar": {
             "outlinewidth": 0,
             "ticks": ""
            },
            "colorscale": [
             [
              0,
              "#0d0887"
             ],
             [
              0.1111111111111111,
              "#46039f"
             ],
             [
              0.2222222222222222,
              "#7201a8"
             ],
             [
              0.3333333333333333,
              "#9c179e"
             ],
             [
              0.4444444444444444,
              "#bd3786"
             ],
             [
              0.5555555555555556,
              "#d8576b"
             ],
             [
              0.6666666666666666,
              "#ed7953"
             ],
             [
              0.7777777777777778,
              "#fb9f3a"
             ],
             [
              0.8888888888888888,
              "#fdca26"
             ],
             [
              1,
              "#f0f921"
             ]
            ],
            "type": "contour"
           }
          ],
          "contourcarpet": [
           {
            "colorbar": {
             "outlinewidth": 0,
             "ticks": ""
            },
            "type": "contourcarpet"
           }
          ],
          "heatmap": [
           {
            "colorbar": {
             "outlinewidth": 0,
             "ticks": ""
            },
            "colorscale": [
             [
              0,
              "#0d0887"
             ],
             [
              0.1111111111111111,
              "#46039f"
             ],
             [
              0.2222222222222222,
              "#7201a8"
             ],
             [
              0.3333333333333333,
              "#9c179e"
             ],
             [
              0.4444444444444444,
              "#bd3786"
             ],
             [
              0.5555555555555556,
              "#d8576b"
             ],
             [
              0.6666666666666666,
              "#ed7953"
             ],
             [
              0.7777777777777778,
              "#fb9f3a"
             ],
             [
              0.8888888888888888,
              "#fdca26"
             ],
             [
              1,
              "#f0f921"
             ]
            ],
            "type": "heatmap"
           }
          ],
          "heatmapgl": [
           {
            "colorbar": {
             "outlinewidth": 0,
             "ticks": ""
            },
            "colorscale": [
             [
              0,
              "#0d0887"
             ],
             [
              0.1111111111111111,
              "#46039f"
             ],
             [
              0.2222222222222222,
              "#7201a8"
             ],
             [
              0.3333333333333333,
              "#9c179e"
             ],
             [
              0.4444444444444444,
              "#bd3786"
             ],
             [
              0.5555555555555556,
              "#d8576b"
             ],
             [
              0.6666666666666666,
              "#ed7953"
             ],
             [
              0.7777777777777778,
              "#fb9f3a"
             ],
             [
              0.8888888888888888,
              "#fdca26"
             ],
             [
              1,
              "#f0f921"
             ]
            ],
            "type": "heatmapgl"
           }
          ],
          "histogram": [
           {
            "marker": {
             "pattern": {
              "fillmode": "overlay",
              "size": 10,
              "solidity": 0.2
             }
            },
            "type": "histogram"
           }
          ],
          "histogram2d": [
           {
            "colorbar": {
             "outlinewidth": 0,
             "ticks": ""
            },
            "colorscale": [
             [
              0,
              "#0d0887"
             ],
             [
              0.1111111111111111,
              "#46039f"
             ],
             [
              0.2222222222222222,
              "#7201a8"
             ],
             [
              0.3333333333333333,
              "#9c179e"
             ],
             [
              0.4444444444444444,
              "#bd3786"
             ],
             [
              0.5555555555555556,
              "#d8576b"
             ],
             [
              0.6666666666666666,
              "#ed7953"
             ],
             [
              0.7777777777777778,
              "#fb9f3a"
             ],
             [
              0.8888888888888888,
              "#fdca26"
             ],
             [
              1,
              "#f0f921"
             ]
            ],
            "type": "histogram2d"
           }
          ],
          "histogram2dcontour": [
           {
            "colorbar": {
             "outlinewidth": 0,
             "ticks": ""
            },
            "colorscale": [
             [
              0,
              "#0d0887"
             ],
             [
              0.1111111111111111,
              "#46039f"
             ],
             [
              0.2222222222222222,
              "#7201a8"
             ],
             [
              0.3333333333333333,
              "#9c179e"
             ],
             [
              0.4444444444444444,
              "#bd3786"
             ],
             [
              0.5555555555555556,
              "#d8576b"
             ],
             [
              0.6666666666666666,
              "#ed7953"
             ],
             [
              0.7777777777777778,
              "#fb9f3a"
             ],
             [
              0.8888888888888888,
              "#fdca26"
             ],
             [
              1,
              "#f0f921"
             ]
            ],
            "type": "histogram2dcontour"
           }
          ],
          "mesh3d": [
           {
            "colorbar": {
             "outlinewidth": 0,
             "ticks": ""
            },
            "type": "mesh3d"
           }
          ],
          "parcoords": [
           {
            "line": {
             "colorbar": {
              "outlinewidth": 0,
              "ticks": ""
             }
            },
            "type": "parcoords"
           }
          ],
          "pie": [
           {
            "automargin": true,
            "type": "pie"
           }
          ],
          "scatter": [
           {
            "fillpattern": {
             "fillmode": "overlay",
             "size": 10,
             "solidity": 0.2
            },
            "type": "scatter"
           }
          ],
          "scatter3d": [
           {
            "line": {
             "colorbar": {
              "outlinewidth": 0,
              "ticks": ""
             }
            },
            "marker": {
             "colorbar": {
              "outlinewidth": 0,
              "ticks": ""
             }
            },
            "type": "scatter3d"
           }
          ],
          "scattercarpet": [
           {
            "marker": {
             "colorbar": {
              "outlinewidth": 0,
              "ticks": ""
             }
            },
            "type": "scattercarpet"
           }
          ],
          "scattergeo": [
           {
            "marker": {
             "colorbar": {
              "outlinewidth": 0,
              "ticks": ""
             }
            },
            "type": "scattergeo"
           }
          ],
          "scattergl": [
           {
            "marker": {
             "colorbar": {
              "outlinewidth": 0,
              "ticks": ""
             }
            },
            "type": "scattergl"
           }
          ],
          "scattermapbox": [
           {
            "marker": {
             "colorbar": {
              "outlinewidth": 0,
              "ticks": ""
             }
            },
            "type": "scattermapbox"
           }
          ],
          "scatterpolar": [
           {
            "marker": {
             "colorbar": {
              "outlinewidth": 0,
              "ticks": ""
             }
            },
            "type": "scatterpolar"
           }
          ],
          "scatterpolargl": [
           {
            "marker": {
             "colorbar": {
              "outlinewidth": 0,
              "ticks": ""
             }
            },
            "type": "scatterpolargl"
           }
          ],
          "scatterternary": [
           {
            "marker": {
             "colorbar": {
              "outlinewidth": 0,
              "ticks": ""
             }
            },
            "type": "scatterternary"
           }
          ],
          "surface": [
           {
            "colorbar": {
             "outlinewidth": 0,
             "ticks": ""
            },
            "colorscale": [
             [
              0,
              "#0d0887"
             ],
             [
              0.1111111111111111,
              "#46039f"
             ],
             [
              0.2222222222222222,
              "#7201a8"
             ],
             [
              0.3333333333333333,
              "#9c179e"
             ],
             [
              0.4444444444444444,
              "#bd3786"
             ],
             [
              0.5555555555555556,
              "#d8576b"
             ],
             [
              0.6666666666666666,
              "#ed7953"
             ],
             [
              0.7777777777777778,
              "#fb9f3a"
             ],
             [
              0.8888888888888888,
              "#fdca26"
             ],
             [
              1,
              "#f0f921"
             ]
            ],
            "type": "surface"
           }
          ],
          "table": [
           {
            "cells": {
             "fill": {
              "color": "#EBF0F8"
             },
             "line": {
              "color": "white"
             }
            },
            "header": {
             "fill": {
              "color": "#C8D4E3"
             },
             "line": {
              "color": "white"
             }
            },
            "type": "table"
           }
          ]
         },
         "layout": {
          "annotationdefaults": {
           "arrowcolor": "#2a3f5f",
           "arrowhead": 0,
           "arrowwidth": 1
          },
          "autotypenumbers": "strict",
          "coloraxis": {
           "colorbar": {
            "outlinewidth": 0,
            "ticks": ""
           }
          },
          "colorscale": {
           "diverging": [
            [
             0,
             "#8e0152"
            ],
            [
             0.1,
             "#c51b7d"
            ],
            [
             0.2,
             "#de77ae"
            ],
            [
             0.3,
             "#f1b6da"
            ],
            [
             0.4,
             "#fde0ef"
            ],
            [
             0.5,
             "#f7f7f7"
            ],
            [
             0.6,
             "#e6f5d0"
            ],
            [
             0.7,
             "#b8e186"
            ],
            [
             0.8,
             "#7fbc41"
            ],
            [
             0.9,
             "#4d9221"
            ],
            [
             1,
             "#276419"
            ]
           ],
           "sequential": [
            [
             0,
             "#0d0887"
            ],
            [
             0.1111111111111111,
             "#46039f"
            ],
            [
             0.2222222222222222,
             "#7201a8"
            ],
            [
             0.3333333333333333,
             "#9c179e"
            ],
            [
             0.4444444444444444,
             "#bd3786"
            ],
            [
             0.5555555555555556,
             "#d8576b"
            ],
            [
             0.6666666666666666,
             "#ed7953"
            ],
            [
             0.7777777777777778,
             "#fb9f3a"
            ],
            [
             0.8888888888888888,
             "#fdca26"
            ],
            [
             1,
             "#f0f921"
            ]
           ],
           "sequentialminus": [
            [
             0,
             "#0d0887"
            ],
            [
             0.1111111111111111,
             "#46039f"
            ],
            [
             0.2222222222222222,
             "#7201a8"
            ],
            [
             0.3333333333333333,
             "#9c179e"
            ],
            [
             0.4444444444444444,
             "#bd3786"
            ],
            [
             0.5555555555555556,
             "#d8576b"
            ],
            [
             0.6666666666666666,
             "#ed7953"
            ],
            [
             0.7777777777777778,
             "#fb9f3a"
            ],
            [
             0.8888888888888888,
             "#fdca26"
            ],
            [
             1,
             "#f0f921"
            ]
           ]
          },
          "colorway": [
           "#636efa",
           "#EF553B",
           "#00cc96",
           "#ab63fa",
           "#FFA15A",
           "#19d3f3",
           "#FF6692",
           "#B6E880",
           "#FF97FF",
           "#FECB52"
          ],
          "font": {
           "color": "#2a3f5f"
          },
          "geo": {
           "bgcolor": "white",
           "lakecolor": "white",
           "landcolor": "white",
           "showlakes": true,
           "showland": true,
           "subunitcolor": "#C8D4E3"
          },
          "hoverlabel": {
           "align": "left"
          },
          "hovermode": "closest",
          "mapbox": {
           "style": "light"
          },
          "paper_bgcolor": "white",
          "plot_bgcolor": "white",
          "polar": {
           "angularaxis": {
            "gridcolor": "#EBF0F8",
            "linecolor": "#EBF0F8",
            "ticks": ""
           },
           "bgcolor": "white",
           "radialaxis": {
            "gridcolor": "#EBF0F8",
            "linecolor": "#EBF0F8",
            "ticks": ""
           }
          },
          "scene": {
           "xaxis": {
            "backgroundcolor": "white",
            "gridcolor": "#DFE8F3",
            "gridwidth": 2,
            "linecolor": "#EBF0F8",
            "showbackground": true,
            "ticks": "",
            "zerolinecolor": "#EBF0F8"
           },
           "yaxis": {
            "backgroundcolor": "white",
            "gridcolor": "#DFE8F3",
            "gridwidth": 2,
            "linecolor": "#EBF0F8",
            "showbackground": true,
            "ticks": "",
            "zerolinecolor": "#EBF0F8"
           },
           "zaxis": {
            "backgroundcolor": "white",
            "gridcolor": "#DFE8F3",
            "gridwidth": 2,
            "linecolor": "#EBF0F8",
            "showbackground": true,
            "ticks": "",
            "zerolinecolor": "#EBF0F8"
           }
          },
          "shapedefaults": {
           "line": {
            "color": "#2a3f5f"
           }
          },
          "ternary": {
           "aaxis": {
            "gridcolor": "#DFE8F3",
            "linecolor": "#A2B1C6",
            "ticks": ""
           },
           "baxis": {
            "gridcolor": "#DFE8F3",
            "linecolor": "#A2B1C6",
            "ticks": ""
           },
           "bgcolor": "white",
           "caxis": {
            "gridcolor": "#DFE8F3",
            "linecolor": "#A2B1C6",
            "ticks": ""
           }
          },
          "title": {
           "x": 0.05
          },
          "xaxis": {
           "automargin": true,
           "gridcolor": "#EBF0F8",
           "linecolor": "#EBF0F8",
           "ticks": "",
           "title": {
            "standoff": 15
           },
           "zerolinecolor": "#EBF0F8",
           "zerolinewidth": 2
          },
          "yaxis": {
           "automargin": true,
           "gridcolor": "#EBF0F8",
           "linecolor": "#EBF0F8",
           "ticks": "",
           "title": {
            "standoff": 15
           },
           "zerolinecolor": "#EBF0F8",
           "zerolinewidth": 2
          }
         }
        },
        "title": {
         "text": "Efficient Frontier with Optimal Portfolios (Backtest Period 9)"
        },
        "width": 850,
        "xaxis": {
         "title": {
          "text": "Annualised Risk (Volatility)"
         }
        },
        "yaxis": {
         "title": {
          "text": "Annualised Return"
         }
        }
       }
      }
     },
     "metadata": {},
     "output_type": "display_data"
    }
   ],
   "source": [
    "# Define the backtest period\n",
    "import kaleido\n",
    "backtest_period = 9\n",
    "\n",
    "# Plot the efficient frontier with all optimal portfolios\n",
    "plot_efficient_frontier(backtest_period, daily_returns, cpp_results_dict, save_path='efficint_frontier.png')"
   ]
  },
  {
   "cell_type": "code",
   "execution_count": 12,
   "metadata": {},
   "outputs": [
    {
     "data": {
      "application/vnd.plotly.v1+json": {
       "config": {
        "plotlyServerURL": "https://plot.ly"
       },
       "data": [
        {
         "mode": "lines",
         "name": "0",
         "type": "scatter",
         "x": [
          208,
          209,
          210,
          211,
          212,
          213,
          214,
          215,
          216,
          217,
          218,
          219
         ],
         "y": [
          0.9793597,
          0.9984596782190053,
          1.0025829981814125,
          0.9803905287572654,
          0.9927723385873178,
          0.9757458690667568,
          0.9798691896207012,
          0.9948458473898651,
          0.9840043585771361,
          0.9881276792730911,
          0.9834830197011367,
          0.9999999984061979
         ]
        },
        {
         "mode": "lines",
         "name": "1",
         "type": "scatter",
         "x": [
          208,
          209,
          210,
          211,
          212,
          213,
          214,
          215,
          216,
          217,
          218,
          219
         ],
         "y": [
          0.9594882730000001,
          1.007818052321671,
          1.0255863532194966,
          1.005685856135485,
          1.0191897653212671,
          1.0298507460831587,
          1.0248756215765922,
          1.0270078179142474,
          1.044776119198279,
          1.066808812477544,
          1.0341151378434774,
          1.0170575689325956
         ]
        },
        {
         "mode": "lines",
         "name": "2",
         "type": "scatter",
         "x": [
          208,
          209,
          210,
          211,
          212,
          213,
          214,
          215,
          216,
          217,
          218,
          219
         ],
         "y": [
          0.96286645,
          0.9850162875877871,
          0.9648208473391406,
          0.9237785021578292,
          0.9517915318924427,
          0.9361563524599347,
          0.938762215751046,
          0.9752443000421038,
          0.9635179157666711,
          0.95700325799485,
          0.9263843655787578,
          0.9381107500938891
         ]
        },
        {
         "mode": "lines",
         "name": "3",
         "type": "scatter",
         "x": [
          208,
          209,
          210,
          211,
          212,
          213,
          214,
          215,
          216,
          217,
          218,
          219
         ],
         "y": [
          0.931087914,
          0.9624041751782233,
          0.9716196378614753,
          0.9591420644653709,
          0.9215462401422254,
          0.9194258682214758,
          0.9382645567183555,
          0.9528625017256238,
          0.9591420647602587,
          0.9716196378766472,
          0.9654216276256501,
          1.009297014969855
         ]
        },
        {
         "mode": "lines",
         "name": "4",
         "type": "scatter",
         "x": [
          208,
          209,
          210,
          211,
          212,
          213,
          214,
          215,
          216,
          217,
          218,
          219
         ],
         "y": [
          0.942591033,
          0.9890023152013974,
          1.0135760893532852,
          1.0048410865609343,
          1.0201361123757655,
          1.0163123555683335,
          1.01413737496924,
          1.0539886343117035,
          1.0354311375845022,
          1.0173998456921627,
          1.0037535958586734,
          1.0239598684083617
         ]
        },
        {
         "mode": "lines",
         "name": "5",
         "type": "scatter",
         "x": [
          208,
          209,
          210,
          211,
          212,
          213,
          214,
          215,
          216,
          217,
          218,
          219
         ],
         "y": [
          0.992248062,
          0.9821705426203126,
          1.0000000003766232,
          0.9651162793634851,
          0.9550387600464647,
          0.9596899229629299,
          0.9387596903477597,
          0.9217054270501113,
          0.9038759692514245,
          0.8976744192822045,
          0.8736434111617406,
          0.9031007755481294
         ]
        },
        {
         "mode": "lines",
         "name": "6",
         "type": "scatter",
         "x": [
          208,
          209,
          210,
          211,
          212,
          213,
          214,
          215,
          216,
          217,
          218,
          219
         ],
         "y": [
          0.965463918,
          1.061340206396578,
          1.1082474231626047,
          1.059793815151832,
          1.0845360837376865,
          1.0515463929239965,
          1.037628867259008,
          1.0958762903133141,
          1.06082474415321,
          1.070103095019183,
          1.0391752600143618,
          1.0195876314682475
         ]
        },
        {
         "mode": "lines",
         "name": "7",
         "type": "scatter",
         "x": [
          208,
          209,
          210,
          211,
          212,
          213,
          214,
          215,
          216,
          217,
          218,
          219
         ],
         "y": [
          0.986024845,
          0.9865424429659851,
          1.0201863351458662,
          1.0015527949642407,
          0.9968944096617564,
          1.0181159419633314,
          1.000517598174611,
          0.9803312631697407,
          0.9435817811735493,
          0.928053830442081,
          0.900621117902619,
          0.933229813954544
         ]
        },
        {
         "mode": "lines",
         "name": "8",
         "type": "scatter",
         "x": [
          208,
          209,
          210,
          211,
          212,
          213,
          214,
          215,
          216,
          217,
          218,
          219
         ],
         "y": [
          0.945426829,
          1.0103658532254742,
          0.9966463408234278,
          0.974390243346256,
          0.9905487798870328,
          1.0192073163852,
          1.0155487799943768,
          1.0454268283377868,
          1.0042682915174086,
          1.0134146328458182,
          1.0085365838057367,
          1.0167682906673932
         ]
        },
        {
         "mode": "lines",
         "name": "9",
         "type": "scatter",
         "x": [
          208,
          209,
          210,
          211,
          212,
          213,
          214,
          215,
          216,
          217,
          218,
          219
         ],
         "y": [
          0.954857631,
          0.99079333318707,
          0.9926123920966546,
          0.9567138135288983,
          0.9475071460242707,
          0.9613171470057105,
          0.9686676316994428,
          0.9824776326182894,
          0.9613171472642725,
          0.9741990565932436,
          0.9714519058541629,
          0.9944685741466799
         ]
        },
        {
         "mode": "lines",
         "name": "10",
         "type": "scatter",
         "x": [
          208,
          209,
          210,
          211,
          212,
          213,
          214,
          215,
          216,
          217,
          218,
          219
         ],
         "y": [
          0.994159995,
          1.0004879118484145,
          1.0452563032247264,
          1.0491496394095199,
          1.0642350735584385,
          1.049637550640668,
          1.0472029709231097,
          1.072992591379667,
          1.0433096344265989,
          1.049149639396834,
          1.0476859046384843,
          1.066181742169799
         ]
        },
        {
         "mode": "lines",
         "name": "11",
         "type": "scatter",
         "x": [
          208,
          209,
          210,
          211,
          212,
          213,
          214,
          215,
          216,
          217,
          218,
          219
         ],
         "y": [
          0.979847495,
          0.9978213510408724,
          1.025054466098578,
          1.001633986805306,
          1.0288671027660194,
          1.0359477126661658,
          1.0283224403081321,
          1.0332244009366365,
          1.0223311543068643,
          1.0190631807623185,
          1.0283224397758841,
          1.0250544660252394
         ]
        },
        {
         "mode": "lines",
         "name": "12",
         "type": "scatter",
         "x": [
          208,
          209,
          210,
          211,
          212,
          213,
          214,
          215,
          216,
          217,
          218,
          219
         ],
         "y": [
          0.9715189870000001,
          1.0105485226444977,
          1.0031645567604204,
          1.0337552744409815,
          1.0147679326022438,
          1.0179324894443678,
          1.0263713075613976,
          1.0453586491964315,
          1.068565400046145,
          1.0843881843444592,
          1.088607594073541,
          1.1202531631876893
         ]
        },
        {
         "mode": "lines",
         "name": "13",
         "type": "scatter",
         "x": [
          208,
          209,
          210,
          211,
          212,
          213,
          214,
          215,
          216,
          217,
          218,
          219
         ],
         "y": [
          0.974569319,
          1.037735849115661,
          1.0385561938326888,
          0.9803117316638473,
          1.0000000007434535,
          1.0065627567483326,
          1.0188679250492527,
          1.0492206729893006,
          1.0442986056908967,
          1.0607054964967193,
          1.0582444624536247,
          1.0664479079154086
         ]
        },
        {
         "mode": "lines",
         "name": "14",
         "type": "scatter",
         "x": [
          208,
          209,
          210,
          211,
          212,
          213,
          214,
          215,
          216,
          217,
          218,
          219
         ],
         "y": [
          0.97609204,
          1.020403513667221,
          1.020403513667221,
          1.008744362711989,
          1.0443114734042567,
          1.0641387303101624,
          1.0536387936477873,
          1.0577261967464,
          1.0542217510040541,
          1.074631965882833,
          1.0466433031379865,
          1.0309034499283565
         ]
        },
        {
         "mode": "lines",
         "name": "15",
         "type": "scatter",
         "x": [
          208,
          209,
          210,
          211,
          212,
          213,
          214,
          215,
          216,
          217,
          218,
          219
         ],
         "y": [
          0.982459074,
          1.0058531684167964,
          1.0183770924859996,
          1.020049426538688,
          1.065165282389417,
          1.0609844468764522,
          1.0626567811714633,
          1.0768530383943704,
          1.0651652814892334,
          1.0827062071162459,
          1.0860508749809081,
          1.132839064221436
         ]
        },
        {
         "mode": "lines",
         "name": "16",
         "type": "scatter",
         "x": [
          208,
          209,
          210,
          211,
          212,
          213,
          214,
          215,
          216,
          217,
          218,
          219
         ],
         "y": [
          0.941929974,
          0.98719043547871,
          0.9607173355619376,
          0.9581554223468667,
          0.9598633640900179,
          0.9795046958395373,
          0.9846285211451475,
          1.0247651560786328,
          1.0093936787374533,
          1.0435525177311362,
          1.050384285603578,
          1.0956447468015778
         ]
        },
        {
         "mode": "lines",
         "name": "17",
         "type": "scatter",
         "x": [
          208,
          209,
          210,
          211,
          212,
          213,
          214,
          215,
          216,
          217,
          218,
          219
         ],
         "y": [
          0.952262753,
          0.9927153032656788,
          1.0161882154458444,
          1.019425858168677,
          1.0501654797179976,
          1.0509748905608283,
          1.0509748905608283,
          1.0881897979302992,
          1.0744298153104077,
          1.0857615654860415,
          1.0663357080391338,
          1.1043780128484966
         ]
        },
        {
         "mode": "lines",
         "name": "18",
         "type": "scatter",
         "x": [
          208,
          209,
          210,
          211,
          212,
          213,
          214,
          215,
          216,
          217,
          218,
          219
         ],
         "y": [
          0.944580939,
          0.9442305637031347,
          0.9759993162150555,
          0.9767043390811165,
          0.9569380652604862,
          0.9728203050855783,
          0.9361121206324071,
          0.979528704039796,
          0.897989617855187,
          0.8732796384386554,
          0.8302177033589789,
          0.9068130847287323
         ]
        },
        {
         "mode": "lines",
         "name": "19",
         "type": "scatter",
         "x": [
          208,
          209,
          210,
          211,
          212,
          213,
          214,
          215,
          216,
          217,
          218,
          219
         ],
         "y": [
          0.952920234,
          0.9653993791204308,
          0.9880878110995663,
          0.9784454811002776,
          0.9982970968889195,
          1.0005669559453259,
          0.9994310102791072,
          1.0266591609211595,
          1.0130440701523047,
          1.0192846586767552,
          1.0039707292428566,
          1.0363014902078254
         ]
        },
        {
         "mode": "lines",
         "name": "20",
         "type": "scatter",
         "x": [
          208,
          209,
          210,
          211,
          212,
          213,
          214,
          215,
          216,
          217,
          218,
          219
         ],
         "y": [
          1.006777572,
          1.0597658653161464,
          1.0357362900440705,
          1.0314232894139046,
          1.059765864874652,
          1.0542205785202752,
          1.023413431067424,
          1.0320394318470847,
          1.0104744291940564,
          1.030807146145052,
          1.0258780026402083,
          1.0209488588837325
         ]
        },
        {
         "mode": "lines",
         "name": "21",
         "type": "scatter",
         "x": [
          208,
          209,
          210,
          211,
          212,
          213,
          214,
          215,
          216,
          217,
          218,
          219
         ],
         "y": [
          0.966728281,
          1.02033271744023,
          1.0640788664195184,
          1.0271102894245034,
          1.0862600118390413,
          1.08379543994858,
          1.100431298947478,
          1.1096734428789712,
          1.0437461479271206,
          1.0505237198011623,
          1.0406654329286582,
          1.067775722787317
         ]
        },
        {
         "mode": "lines",
         "name": "22",
         "type": "scatter",
         "x": [
          208,
          209,
          210,
          211,
          212,
          213,
          214,
          215,
          216,
          217,
          218,
          219
         ],
         "y": [
          0.937232633,
          0.9571834187705015,
          0.9714556122121722,
          0.9562369867682013,
          0.9647927316973345,
          0.9676698844829946,
          0.9457883776125514,
          0.975279197009929,
          0.9867120946504837,
          0.9952678397015626,
          1.0361537003308732,
          1.008593602398002
         ]
        },
        {
         "mode": "lines",
         "name": "23",
         "type": "scatter",
         "x": [
          208,
          209,
          210,
          211,
          212,
          213,
          214,
          215,
          216,
          217,
          218,
          219
         ],
         "y": [
          0.948598131,
          0.9906542054229317,
          0.9867601240404796,
          0.949376946656315,
          0.9672897196825553,
          1.0023364486004862,
          0.9774143300840725,
          1.0218068537423168,
          0.9961059191837813,
          0.9867601247350458,
          0.9828660436520001,
          1.020249220935388
         ]
        },
        {
         "mode": "lines",
         "name": "24",
         "type": "scatter",
         "x": [
          208,
          209,
          210,
          211,
          212,
          213,
          214,
          215,
          216,
          217,
          218,
          219
         ],
         "y": [
          0.998563218,
          1.035201148538822,
          1.0330459756900927,
          1.0402298838087771,
          1.0653735622326175,
          1.0704022980368724,
          1.057471263470553,
          1.0919540224298,
          1.0624999996862499,
          1.08261494261781,
          1.0545977015163668,
          1.050287357172913
         ]
        },
        {
         "mode": "lines",
         "name": "25",
         "type": "scatter",
         "x": [
          208,
          209,
          210,
          211,
          212,
          213,
          214,
          215,
          216,
          217,
          218,
          219
         ],
         "y": [
          0.958506224,
          0.9993084374121116,
          0.9930843707225534,
          1.0041493773592907,
          1.0076071918481113,
          1.0055325034499163,
          1.01798063586199,
          1.0304287687702565,
          1.0366528346885389,
          1.0650069151889152,
          1.070539418436973,
          1.0788381736352524
         ]
        },
        {
         "mode": "lines",
         "name": "26",
         "type": "scatter",
         "x": [
          208,
          209,
          210,
          211,
          212,
          213,
          214,
          215,
          216,
          217,
          218,
          219
         ],
         "y": [
          0.973021583,
          0.9766187056232862,
          1.0080935258274664,
          0.9775179866873207,
          0.976618706307734,
          0.9919064757970664,
          0.9964028791072502,
          1.0206834546344008,
          1.000899281855524,
          1.0125899295970933,
          0.9892086347449977,
          0.9811151097314856
         ]
        },
        {
         "mode": "lines",
         "name": "27",
         "type": "scatter",
         "x": [
          208,
          209,
          210,
          211,
          212,
          213,
          214,
          215,
          216,
          217,
          218,
          219
         ],
         "y": [
          0.951932216,
          0.9613556852493743,
          0.955703625223315,
          0.9453398308001459,
          0.9387373354148411,
          0.9896362050663655,
          0.9425087452827173,
          0.9755010000088903,
          0.8803057564955198,
          0.8737032608514794,
          0.8039574516848796,
          0.8840771661019061
         ]
        },
        {
         "mode": "lines",
         "name": "28",
         "type": "scatter",
         "x": [
          208,
          209,
          210,
          211,
          212,
          213,
          214,
          215,
          216,
          217,
          218,
          219
         ],
         "y": [
          0.985863095,
          1.0394345239119132,
          1.063244048107711,
          1.0163690480519412,
          1.0252976194233034,
          1.0877976194313235,
          1.0803571435432824,
          1.124255953294377,
          1.1101190485254506,
          1.1331845248538073,
          1.161458334303226,
          1.1852678584897751
         ]
        },
        {
         "mode": "lines",
         "name": "29",
         "type": "scatter",
         "x": [
          208,
          209,
          210,
          211,
          212,
          213,
          214,
          215,
          216,
          217,
          218,
          219
         ],
         "y": [
          0.902615194,
          0.9170261631512893,
          0.9095583431681696,
          0.9074130206585228,
          0.9005106791643863,
          0.9170728004352341,
          0.9189849357411992,
          0.9971726050779953,
          0.9564289710566692,
          0.9825809154259715,
          0.9399951029466859,
          0.946850806830811
         ]
        },
        {
         "mode": "lines",
         "name": "30",
         "type": "scatter",
         "x": [
          208,
          209,
          210,
          211,
          212,
          213,
          214,
          215,
          216,
          217,
          218,
          219
         ],
         "y": [
          0.944815896,
          0.9999999999105413,
          1.0234297009084454,
          0.9901685651732847,
          0.9984838492878193,
          0.9947075993455544,
          0.9901685655435424,
          1.0196534515981202,
          0.9886618323427753,
          1.0120915339330436,
          1.0461060357531817,
          1.0294754677619342
         ]
        },
        {
         "mode": "lines",
         "name": "31",
         "type": "scatter",
         "x": [
          208,
          209,
          210,
          211,
          212,
          213,
          214,
          215,
          216,
          217,
          218,
          219
         ],
         "y": [
          0.939252336,
          0.9906542049847957,
          1.0864485972423406,
          1.0677570085543555,
          1.05607476561208,
          1.1121495317875787,
          1.107476634230708,
          1.0887850456121804,
          1.039719624755966,
          1.0957943907545655,
          1.0443925212020229,
          1.0817756982297593
         ]
        },
        {
         "mode": "lines",
         "name": "32",
         "type": "scatter",
         "x": [
          208,
          209,
          210,
          211,
          212,
          213,
          214,
          215,
          216,
          217,
          218,
          219
         ],
         "y": [
          0.944123314,
          0.9961464355570839,
          0.95761078961856,
          0.9614643542895497,
          0.9633911365472607,
          0.9730250479127334,
          0.9961464349586538,
          1.0558766851313368,
          1.0173410400739438,
          1.0481695561315356,
          1.0423892091913196,
          1.0789980724917219
         ]
        },
        {
         "mode": "lines",
         "name": "33",
         "type": "scatter",
         "x": [
          208,
          209,
          210,
          211,
          212,
          213,
          214,
          215,
          216,
          217,
          218,
          219
         ],
         "y": [
          0.959975042,
          0.9785836196431713,
          0.9944210971873333,
          0.9832449396838406,
          1.0474940812906226,
          1.0530729844878606,
          1.0353819891391822,
          1.0577343042210177,
          1.0549448526025975,
          1.0838120048679651,
          1.075425298499624,
          1.1042924504687386
         ]
        },
        {
         "mode": "lines",
         "name": "34",
         "type": "scatter",
         "x": [
          208,
          209,
          210,
          211,
          212,
          213,
          214,
          215,
          216,
          217,
          218,
          219
         ],
         "y": [
          0.979522184,
          1.0119453918910823,
          1.0324232078925848,
          1.0273037536449183,
          1.0622866886271742,
          1.0366894185353521,
          1.0170648453382118,
          1.0460750842835678,
          1.057167234540451,
          1.0742320808987647,
          1.0767918083673418,
          1.1356655286280515
         ]
        },
        {
         "mode": "lines",
         "name": "35",
         "type": "scatter",
         "x": [
          208,
          209,
          210,
          211,
          212,
          213,
          214,
          215,
          216,
          217,
          218,
          219
         ],
         "y": [
          0.946669989,
          1.00909600573711,
          1.068469253032046,
          1.0303096365470532,
          1.0042364951868177,
          1.0363528740818457,
          1.0242352486660011,
          1.0842315101508904,
          1.0618030006353045,
          1.0757585174401325,
          1.0690922656653277,
          1.10666001820789
         ]
        },
        {
         "mode": "lines",
         "name": "36",
         "type": "scatter",
         "x": [
          208,
          209,
          210,
          211,
          212,
          213,
          214,
          215,
          216,
          217,
          218,
          219
         ],
         "y": [
          0.99010061,
          1.0287688388282572,
          1.0539415726479338,
          1.0431532580796579,
          1.0602448579237866,
          1.0647298876976132,
          1.0557598280002902,
          1.0881247715932172,
          1.118711866432097,
          1.135803465780192,
          1.1456624499868053,
          1.1735423645287621
         ]
        },
        {
         "mode": "lines",
         "name": "37",
         "type": "scatter",
         "x": [
          208,
          209,
          210,
          211,
          212,
          213,
          214,
          215,
          216,
          217,
          218,
          219
         ],
         "y": [
          0.985126369,
          0.9868739733273423,
          0.975505047979129,
          0.966757529353547,
          0.9737574435881595,
          1.0157474332789225,
          1.0096213203356714,
          1.049873202992346,
          1.0463684963185262,
          1.0743681547646105,
          1.0848632780165473,
          1.0752419575719816
         ]
        },
        {
         "mode": "lines",
         "name": "38",
         "type": "scatter",
         "x": [
          208,
          209,
          210,
          211,
          212,
          213,
          214,
          215,
          216,
          217,
          218,
          219
         ],
         "y": [
          0.934356074,
          0.9479960254106414,
          0.971865428683247,
          0.9471434006649732,
          0.9258318719195509,
          0.9190108741147421,
          0.9079287967680438,
          0.9931790026624225,
          0.9369139492089255,
          0.9982947516637487,
          0.9326508260688411,
          0.9710148498148298
         ]
        },
        {
         "mode": "lines",
         "name": "39",
         "type": "scatter",
         "x": [
          208,
          209,
          210,
          211,
          212,
          213,
          214,
          215,
          216,
          217,
          218,
          219
         ],
         "y": [
          1.010899183,
          1.0592731522498755,
          1.0623872045221328,
          1.0311759087791164,
          1.021055238961333,
          1.0335114471486455,
          1.0428889905270968,
          1.084220955762574,
          1.0709508469660463,
          1.0967125513836502,
          1.060830177425261,
          1.088892033806204
         ]
        },
        {
         "mode": "lines",
         "name": "40",
         "type": "scatter",
         "x": [
          208,
          209,
          210,
          211,
          212,
          213,
          214,
          215,
          216,
          217,
          218,
          219
         ],
         "y": [
          0.913461538,
          0.9519230762978745,
          0.9350961529243108,
          0.9759615370450823,
          0.9951923057623642,
          1.0120192292441554,
          1.0024038442874916,
          1.0240384598193262,
          0.9711538450234924,
          0.9350961526327687,
          0.9302884604947764,
          0.9495192300525284
         ]
        },
        {
         "mode": "lines",
         "name": "41",
         "type": "scatter",
         "x": [
          208,
          209,
          210,
          211,
          212,
          213,
          214,
          215,
          216,
          217,
          218,
          219
         ],
         "y": [
          1.014276847,
          1.0651769095648325,
          1.1446306654913607,
          1.0900062082644637,
          1.086281814011718,
          1.08255741968637,
          1.1024208587386055,
          1.175667289181656,
          1.1558038506996462,
          1.1576660483455818,
          1.1880819386448154,
          1.2209807591832473
         ]
        },
        {
         "mode": "lines",
         "name": "42",
         "type": "scatter",
         "x": [
          208,
          209,
          210,
          211,
          212,
          213,
          214,
          215,
          216,
          217,
          218,
          219
         ],
         "y": [
          0.978768577,
          1.005307854665992,
          1.0382165590337062,
          0.984076431996018,
          0.9777070051625353,
          0.9957537146498124,
          0.9819532900862092,
          1.0254777058688564,
          1.0042462831280763,
          1.0488322703261426,
          1.032908703715249,
          1.0520169838189073
         ]
        },
        {
         "mode": "lines",
         "name": "43",
         "type": "scatter",
         "x": [
          208,
          209,
          210,
          211,
          212,
          213,
          214,
          215,
          216,
          217,
          218,
          219
         ],
         "y": [
          0.972555746,
          1.004288164558018,
          1.0231560888535969,
          0.990566037158602,
          0.9819897074937884,
          1.0120068605276904,
          1.0120068605276904,
          1.0385934809938895,
          1.0154373922913922,
          1.0737564312744248,
          1.076329329927326,
          1.0909090900622542
         ]
        },
        {
         "mode": "lines",
         "name": "44",
         "type": "scatter",
         "x": [
          208,
          209,
          210,
          211,
          212,
          213,
          214,
          215,
          216,
          217,
          218,
          219
         ],
         "y": [
          0.970641102,
          1.0137807061019373,
          1.0233672851107243,
          0.9940083871676432,
          0.9832234856276291,
          0.9784301964102095,
          0.9724385843948825,
          0.9922109029312643,
          1.023966445195937,
          1.1078490094355207,
          1.1336129399390376,
          1.1258238446186506
         ]
        },
        {
         "mode": "lines",
         "name": "45",
         "type": "scatter",
         "x": [
          208,
          209,
          210,
          211,
          212,
          213,
          214,
          215,
          216,
          217,
          218,
          219
         ],
         "y": [
          0.9461148070000001,
          0.9519528415306119,
          1.0035926362523118,
          1.0296348936853874,
          1.052987032637235,
          1.1023770692950265,
          1.0588250681769054,
          1.079029290715689,
          0.9586890362695564,
          0.9766478607923927,
          0.9250124258868357,
          1.029634893477489
         ]
        },
        {
         "mode": "lines",
         "name": "46",
         "type": "scatter",
         "x": [
          208,
          209,
          210,
          211,
          212,
          213,
          214,
          215,
          216,
          217,
          218,
          219
         ],
         "y": [
          0.974821336,
          1.0294559610612262,
          1.0567703153321513,
          1.0321359266598888,
          1.043382318140174,
          1.0257051919628655,
          1.0203511759993553,
          1.0283851579085708,
          1.0101755881948158,
          1.027314354506253,
          1.0166004068087016,
          1.0573086746801577
         ]
        },
        {
         "mode": "lines",
         "name": "47",
         "type": "scatter",
         "x": [
          208,
          209,
          210,
          211,
          212,
          213,
          214,
          215,
          216,
          217,
          218,
          219
         ],
         "y": [
          0.946307495,
          0.954004031507559,
          0.9938305544717078,
          0.9662818398360017,
          0.9540040318376857,
          0.9984729101552641,
          0.9646936659897819,
          1.041414696906385,
          0.9800256551623835,
          1.003054181384336,
          0.9754443838152341,
          1.0045812723759946
         ]
        },
        {
         "mode": "lines",
         "name": "48",
         "type": "scatter",
         "x": [
          208,
          209,
          210,
          211,
          212,
          213,
          214,
          215,
          216,
          217,
          218,
          219
         ],
         "y": [
          0.965460377,
          1.0090063966090268,
          1.0262762080402186,
          1.014261638655121,
          1.0330264759894316,
          1.0097584409544862,
          1.0135095966258216,
          1.0450410467263966,
          1.0120055101291032,
          1.0180127950773399,
          1.0097584409130014,
          1.0367866925595666
         ]
        },
        {
         "mode": "lines",
         "name": "49",
         "type": "scatter",
         "x": [
          208,
          209,
          210,
          211,
          212,
          213,
          214,
          215,
          216,
          217,
          218,
          219
         ],
         "y": [
          0.945000342,
          1.0057210583101086,
          1.0206049274076938,
          0.9696396415203337,
          0.9467326147656334,
          0.98509333796114,
          0.996558248265667,
          1.0698607349900349,
          1.0263487799515763,
          1.051535113187254,
          1.0836049509442416,
          1.0904884560378791
         ]
        },
        {
         "mode": "lines",
         "name": "50",
         "type": "scatter",
         "x": [
          208,
          209,
          210,
          211,
          212,
          213,
          214,
          215,
          216,
          217,
          218,
          219
         ],
         "y": [
          0.955617198,
          0.9923717051743305,
          1.0083217740631651,
          1.0090152554298513,
          1.0575589450620626,
          1.0610263519420893,
          1.0312066572569565,
          1.047156726608106,
          1.0242718441220109,
          1.0305131759779549,
          1.0353675453516513,
          1.0596393902741954
         ]
        },
        {
         "mode": "lines",
         "name": "51",
         "type": "scatter",
         "x": [
          208,
          209,
          210,
          211,
          212,
          213,
          214,
          215,
          216,
          217,
          218,
          219
         ],
         "y": [
          0.99339207,
          1.0187224661131944,
          1.0462555057103422,
          1.0440528627056238,
          1.066079293976556,
          1.085903082157301,
          1.0660792937405381,
          1.0682819372266041,
          1.043502201877656,
          1.0958149770430237,
          1.0952643157714648,
          1.147577091230041
         ]
        },
        {
         "mode": "lines",
         "name": "52",
         "type": "scatter",
         "x": [
          208,
          209,
          210,
          211,
          212,
          213,
          214,
          215,
          216,
          217,
          218,
          219
         ],
         "y": [
          0.969248415,
          1.1299746808753164,
          1.127832240970554,
          1.1132679781989485,
          1.1305157009399553,
          1.1407734430660441,
          1.1574801454307935,
          1.208184554004394,
          1.1844662311637106,
          1.2038780336630717,
          1.163950746912693,
          1.172585428232359
         ]
        },
        {
         "mode": "lines",
         "name": "53",
         "type": "scatter",
         "x": [
          208,
          209,
          210,
          211,
          212,
          213,
          214,
          215,
          216,
          217,
          218,
          219
         ],
         "y": [
          0.9427412079999999,
          0.9486023441618221,
          0.9625788993243274,
          0.9211000895096115,
          0.912082957155855,
          0.9792605949905084,
          0.9553651940218837,
          1.027953110609293,
          1.0586113608617997,
          1.0563570776099627,
          1.0973850305011783,
          1.1582506747634636
         ]
        },
        {
         "mode": "lines",
         "name": "54",
         "type": "scatter",
         "x": [
          208,
          209,
          210,
          211,
          212,
          213,
          214,
          215,
          216,
          217,
          218,
          219
         ],
         "y": [
          0.947655703,
          0.9749941684487653,
          0.9999999998860376,
          0.9703102398894211,
          0.9617168182417228,
          0.9968742711146809,
          0.9695264759387141,
          0.9960905066452705,
          0.9703102409981468,
          1.0296804303254647,
          1.014835550214432,
          1.0445253101400847
         ]
        },
        {
         "mode": "lines",
         "name": "55",
         "type": "scatter",
         "x": [
          208,
          209,
          210,
          211,
          212,
          213,
          214,
          215,
          216,
          217,
          218,
          219
         ],
         "y": [
          0.911854103,
          0.9564336370257617,
          0.9807497466199889,
          0.9766970621137636,
          0.9412360691379579,
          0.950354609813051,
          0.9169199590511755,
          0.9554204653657773,
          0.9229989865280978,
          0.9123606885011681,
          0.8966565341726316,
          0.9452887528536343
         ]
        },
        {
         "mode": "lines",
         "name": "56",
         "type": "scatter",
         "x": [
          208,
          209,
          210,
          211,
          212,
          213,
          214,
          215,
          216,
          217,
          218,
          219
         ],
         "y": [
          0.968908093,
          1.045373120191341,
          1.0411766663304793,
          1.025211896364381,
          0.9974788104145121,
          1.0394931086687462,
          1.0336130973973472,
          1.0495778666864424,
          1.084874520654408,
          1.0823533308516313,
          1.0915921635896144,
          1.087395709988256
         ]
        },
        {
         "mode": "lines",
         "name": "57",
         "type": "scatter",
         "x": [
          208,
          209,
          210,
          211,
          212,
          213,
          214,
          215,
          216,
          217,
          218,
          219
         ],
         "y": [
          1.00572363,
          1.026165166941647,
          1.0204415367778135,
          0.9975470155641447,
          1.0032706460630822,
          1.0367947671550821,
          1.052330335298546,
          1.0842191330190079,
          1.0973017168179986,
          1.119378576951546,
          1.0923957481497137,
          1.106295993559228
         ]
        },
        {
         "mode": "lines",
         "name": "58",
         "type": "scatter",
         "x": [
          208,
          209,
          210,
          211,
          212,
          213,
          214,
          215,
          216,
          217,
          218,
          219
         ],
         "y": [
          0.95377449,
          0.9907533503773277,
          0.9969203629687325,
          0.9684143742578272,
          0.9668745556977678,
          0.9969203633216177,
          1.0015398191290705,
          1.0462255102222144,
          1.007699093834915,
          1.019259340246559,
          1.0269661711048468,
          1.072417902808945
         ]
        },
        {
         "mode": "lines",
         "name": "59",
         "type": "scatter",
         "x": [
          208,
          209,
          210,
          211,
          212,
          213,
          214,
          215,
          216,
          217,
          218,
          219
         ],
         "y": [
          0.930587976,
          0.932790134275814,
          1.0242237390214974,
          0.9823827346425225,
          0.9713719443393481,
          1.0132129486622898,
          1.026425897008772,
          1.082580929071735,
          1.0660647431480523,
          1.120017616706505,
          1.1057035888418072,
          1.0935917194695592
         ]
        },
        {
         "mode": "lines",
         "name": "60",
         "type": "scatter",
         "x": [
          208,
          209,
          210,
          211,
          212,
          213,
          214,
          215,
          216,
          217,
          218,
          219
         ],
         "y": [
          0.989536622,
          1.0164424512783385,
          1.0523168910939653,
          1.0538116598835043,
          1.0852017943883827,
          1.068011959220876,
          1.063527654687217,
          1.0784753380577021,
          1.0994020940084053,
          1.1307922280935438,
          1.133781764569735,
          1.1270553072006027
         ]
        },
        {
         "mode": "lines",
         "name": "61",
         "type": "scatter",
         "x": [
          208,
          209,
          210,
          211,
          212,
          213,
          214,
          215,
          216,
          217,
          218,
          219
         ],
         "y": [
          0.966083168,
          1.0015459325283145,
          1.0177391895704666,
          1.0077140484043041,
          1.043957587602048,
          1.0454879051945194,
          1.0370086971828751,
          1.0632270956372971,
          1.0524367961744725,
          1.0740173957670238,
          1.0693952126159225,
          1.0994706354758432
         ]
        },
        {
         "mode": "lines",
         "name": "62",
         "type": "scatter",
         "x": [
          208,
          209,
          210,
          211,
          212,
          213,
          214,
          215,
          216,
          217,
          218,
          219
         ],
         "y": [
          0.949782935,
          0.9808508961255646,
          1.0031099536388977,
          0.9813560658034651,
          0.9627279188386487,
          0.9994790433878156,
          0.9823979795191262,
          1.0388191653954524,
          1.001547083768501,
          1.0662562165775338,
          1.0569263563280402,
          1.1387165527369467
         ]
        },
        {
         "mode": "lines",
         "name": "63",
         "type": "scatter",
         "x": [
          208,
          209,
          210,
          211,
          212,
          213,
          214,
          215,
          216,
          217,
          218,
          219
         ],
         "y": [
          0.9010776739999999,
          0.9125660836479936,
          0.900264335114514,
          0.8610207405320492,
          0.8373322492333952,
          0.8683407892464209,
          0.8822692151679913,
          0.9321878811976985,
          0.8798291988045812,
          0.9346278972961669,
          0.9795648636104685,
          1.0531720211033746
         ]
        },
        {
         "mode": "lines",
         "name": "64",
         "type": "scatter",
         "x": [
          208,
          209,
          210,
          211,
          212,
          213,
          214,
          215,
          216,
          217,
          218,
          219
         ],
         "y": [
          0.96637609,
          0.9850560402829628,
          1.0186799510424298,
          1.0921544214677803,
          1.1195516819584443,
          1.0958904116982355,
          1.0759651316847931,
          1.0946450817681024,
          1.1220423416130754,
          1.1556662523396612,
          1.2154420930576206,
          1.209215442771549
         ]
        },
        {
         "mode": "lines",
         "name": "65",
         "type": "scatter",
         "x": [
          208,
          209,
          210,
          211,
          212,
          213,
          214,
          215,
          216,
          217,
          218,
          219
         ],
         "y": [
          1.066783831,
          0.9586994726824467,
          1.0228471003407538,
          1.067662566087878,
          1.0114235503884434,
          1.057117750758789,
          1.0544815464539503,
          1.0439367309894108,
          0.9789103692603686,
          0.9745166964827061,
          0.878734622437268,
          0.9789103693951166
         ]
        },
        {
         "mode": "lines",
         "name": "66",
         "type": "scatter",
         "x": [
          208,
          209,
          210,
          211,
          212,
          213,
          214,
          215,
          216,
          217,
          218,
          219
         ],
         "y": [
          0.937596577,
          0.9954831811638014,
          1.0353421296364471,
          1.021791672271952,
          0.993224772194908,
          1.0285669018140207,
          0.9849439374572917,
          1.0684258501813346,
          0.9947303790509671,
          1.0984983573505795,
          1.0646618342358294,
          1.0826894901034718
         ]
        },
        {
         "mode": "lines",
         "name": "67",
         "type": "scatter",
         "x": [
          208,
          209,
          210,
          211,
          212,
          213,
          214,
          215,
          216,
          217,
          218,
          219
         ],
         "y": [
          0.935334873,
          0.9024249424565435,
          0.9659353348933551,
          0.9722863742093089,
          0.9832563507921452,
          1.0063510385958097,
          0.9999999994579751,
          1.1229792143913173,
          1.0346420320576208,
          1.0346420320576208,
          0.9705542725550209,
          1.072748268348829
         ]
        },
        {
         "mode": "lines",
         "name": "68",
         "type": "scatter",
         "x": [
          208,
          209,
          210,
          211,
          212,
          213,
          214,
          215,
          216,
          217,
          218,
          219
         ],
         "y": [
          0.991334866,
          0.9717650413878082,
          0.9698110648308377,
          0.9432595328865899,
          0.9571402798329179,
          0.9673535638742699,
          0.9650463685505695,
          1.000015029269876,
          1.0063353912588744,
          0.979415609591399,
          0.978942146373904,
          0.9959642860976973
         ]
        },
        {
         "mode": "lines",
         "name": "69",
         "type": "scatter",
         "x": [
          208,
          209,
          210,
          211,
          212,
          213,
          214,
          215,
          216,
          217,
          218,
          219
         ],
         "y": [
          0.94963365,
          0.9303663505454892,
          0.9505563097998165,
          1.0338670286104843,
          1.0705020354324717,
          1.1190230668754497,
          1.1089823616043275,
          1.1272727278475376,
          1.0723473550558942,
          1.0988873826770822,
          1.0485210322249425,
          1.0741383995232854
         ]
        },
        {
         "mode": "lines",
         "name": "70",
         "type": "scatter",
         "x": [
          208,
          209,
          210,
          211,
          212,
          213,
          214,
          215,
          216,
          217,
          218,
          219
         ],
         "y": [
          0.96201207,
          1.0057797134159956,
          1.0305533923693142,
          1.0198092085469261,
          1.0437554750291582,
          1.0577971372660795,
          1.0577971372660795,
          1.0850530512601477,
          1.0412854084734169,
          1.0718388007637023,
          1.049535189052215,
          1.099082545708649
         ]
        },
        {
         "mode": "lines",
         "name": "71",
         "type": "scatter",
         "x": [
          208,
          209,
          210,
          211,
          212,
          213,
          214,
          215,
          216,
          217,
          218,
          219
         ],
         "y": [
          0.932501834,
          0.9743213493011221,
          0.960381510637082,
          0.9537784296494715,
          0.9669845926682761,
          1.0007336758533525,
          0.997798973311495,
          1.1041819520249825,
          1.1298606021234325,
          1.1283932510295942,
          1.1159207638536968,
          1.1467351436653437
         ]
        },
        {
         "mode": "lines",
         "name": "72",
         "type": "scatter",
         "x": [
          208,
          209,
          210,
          211,
          212,
          213,
          214,
          215,
          216,
          217,
          218,
          219
         ],
         "y": [
          0.9673136920000001,
          1.0057712308185287,
          1.0288561527514992,
          1.0327036395566371,
          1.017313691984557,
          1.0192374352280407,
          1.0307798965832113,
          1.0807798968263571,
          1.0538474875690045,
          1.0750086660808287,
          1.084627383521211,
          1.140381283202106
         ]
        },
        {
         "mode": "lines",
         "name": "73",
         "type": "scatter",
         "x": [
          208,
          209,
          210,
          211,
          212,
          213,
          214,
          215,
          216,
          217,
          218,
          219
         ],
         "y": [
          0.990050773,
          1.0364805009663476,
          1.0762853063765665,
          1.0580450558598566,
          1.0779435103129424,
          1.0597032605962002,
          1.0638487720650058,
          1.103645681193839,
          1.0787726131986768,
          1.1177404204969172,
          1.0936964548200134,
          1.1301848513902129
         ]
        },
        {
         "mode": "lines",
         "name": "74",
         "type": "scatter",
         "x": [
          208,
          209,
          210,
          211,
          212,
          213,
          214,
          215,
          216,
          217,
          218,
          219
         ],
         "y": [
          0.915217391,
          0.9217391303695704,
          0.9492753624024048,
          0.9333333335386826,
          0.9239130434032766,
          0.9579710143244257,
          0.9666666666649267,
          0.9898550724648849,
          0.9449275363749791,
          0.9804347826470228,
          0.9601449279679687,
          1.0239130436125845
         ]
        },
        {
         "mode": "lines",
         "name": "75",
         "type": "scatter",
         "x": [
          208,
          209,
          210,
          211,
          212,
          213,
          214,
          215,
          216,
          217,
          218,
          219
         ],
         "y": [
          0.931567814,
          0.9994230924679441,
          1.011593087453388,
          0.9646163564035645,
          0.9634625421242486,
          1.0145050957657673,
          0.9872530977049881,
          1.0481580178206642,
          1.0179940110864392,
          1.0452460100534624,
          1.0724980089587597,
          1.1368918447546845
         ]
        },
        {
         "mode": "lines",
         "name": "76",
         "type": "scatter",
         "x": [
          208,
          209,
          210,
          211,
          212,
          213,
          214,
          215,
          216,
          217,
          218,
          219
         ],
         "y": [
          0.972221488,
          0.9826351263856143,
          1.059028237106075,
          1.1062508261814992,
          1.1145764510930771,
          1.1284701124489087,
          1.1430509675672005,
          1.1874983489861193,
          1.1958327835860096,
          1.2368001420775272,
          1.1923615716158424,
          1.2097176355391073
         ]
        },
        {
         "mode": "lines",
         "name": "77",
         "type": "scatter",
         "x": [
          208,
          209,
          210,
          211,
          212,
          213,
          214,
          215,
          216,
          217,
          218,
          219
         ],
         "y": [
          0.905759852,
          0.8738631863979544,
          0.8449980225042559,
          0.8221299584759484,
          0.7381046519487195,
          0.8237775136519551,
          0.8402530639249942,
          0.8699090547130245,
          0.8600237248621616,
          0.9588770267978186,
          0.8797943852246103,
          0.9358112562071479
         ]
        },
        {
         "mode": "lines",
         "name": "78",
         "type": "scatter",
         "x": [
          208,
          209,
          210,
          211,
          212,
          213,
          214,
          215,
          216,
          217,
          218,
          219
         ],
         "y": [
          0.963860087,
          0.9863507288721318,
          0.9879533623862612,
          0.9815320745434425,
          1.0200813148970234,
          1.0337413410941605,
          1.023297336546056,
          1.0281159915156872,
          1.002409326767034,
          1.0192746191020137,
          1.0369466067472775,
          1.0923718964645044
         ]
        },
        {
         "mode": "lines",
         "name": "79",
         "type": "scatter",
         "x": [
          208,
          209,
          210,
          211,
          212,
          213,
          214,
          215,
          216,
          217,
          218,
          219
         ],
         "y": [
          0.970857448,
          1.0364350317837656,
          1.04097743943557,
          1.00273639098099,
          1.0264061629799104,
          1.0154879675704134,
          1.0245864635471171,
          1.068300292350972,
          1.0464502193437826,
          1.0892473575417323,
          1.0938034472286422,
          1.1347945681731726
         ]
        },
        {
         "mode": "lines",
         "name": "80",
         "type": "scatter",
         "x": [
          208,
          209,
          210,
          211,
          212,
          213,
          214,
          215,
          216,
          217,
          218,
          219
         ],
         "y": [
          0.930925617,
          0.9342100240476682,
          0.958053798294105,
          0.955596858789788,
          0.9638078754455727,
          1.0361793953589338,
          1.068259647251106,
          1.0921034215709782,
          1.038649065393944,
          1.044403141747562,
          1.0049266100696412,
          1.0205593680021512
         ]
        },
        {
         "mode": "lines",
         "name": "81",
         "type": "scatter",
         "x": [
          208,
          209,
          210,
          211,
          212,
          213,
          214,
          215,
          216,
          217,
          218,
          219
         ],
         "y": [
          0.956385823,
          0.9806183166936558,
          0.9786779927264904,
          0.9636512592568767,
          0.9874094517895827,
          1.0232623324300782,
          1.0431183174300653,
          1.0746162482542563,
          1.065884789209336,
          1.110469128731198,
          1.089147120926874,
          1.1046481557324808
         ]
        },
        {
         "mode": "lines",
         "name": "82",
         "type": "scatter",
         "x": [
          208,
          209,
          210,
          211,
          212,
          213,
          214,
          215,
          216,
          217,
          218,
          219
         ],
         "y": [
          0.922060923,
          0.918662386239702,
          0.9417776975465991,
          0.9610799136479979,
          0.9442924040291377,
          0.9842478339764572,
          0.9802874332900681,
          1.0187813866882633,
          1.0142128276210258,
          1.032333447720877,
          1.0208647010870844,
          1.0369062157807802
         ]
        },
        {
         "line": {
          "color": "black",
          "width": 3
         },
         "mode": "lines",
         "name": "Optimized Portfolio",
         "type": "scatter",
         "x": [
          208,
          209,
          210,
          211,
          212,
          213,
          214,
          215,
          216,
          217,
          218,
          219
         ],
         "y": [
          0.9336550017623869,
          1.134743672970082,
          1.1905149183901773,
          1.2025669046319356,
          1.147972049098739,
          0.9788134529444027,
          0.8636478507962647,
          1.08940083739921,
          1.1370470773958725,
          1.4082597954515272,
          1.380198297734064,
          1.2583076629205558
         ]
        }
       ],
       "layout": {
        "height": 500,
        "showlegend": false,
        "template": {
         "data": {
          "bar": [
           {
            "error_x": {
             "color": "#2a3f5f"
            },
            "error_y": {
             "color": "#2a3f5f"
            },
            "marker": {
             "line": {
              "color": "white",
              "width": 0.5
             },
             "pattern": {
              "fillmode": "overlay",
              "size": 10,
              "solidity": 0.2
             }
            },
            "type": "bar"
           }
          ],
          "barpolar": [
           {
            "marker": {
             "line": {
              "color": "white",
              "width": 0.5
             },
             "pattern": {
              "fillmode": "overlay",
              "size": 10,
              "solidity": 0.2
             }
            },
            "type": "barpolar"
           }
          ],
          "carpet": [
           {
            "aaxis": {
             "endlinecolor": "#2a3f5f",
             "gridcolor": "#C8D4E3",
             "linecolor": "#C8D4E3",
             "minorgridcolor": "#C8D4E3",
             "startlinecolor": "#2a3f5f"
            },
            "baxis": {
             "endlinecolor": "#2a3f5f",
             "gridcolor": "#C8D4E3",
             "linecolor": "#C8D4E3",
             "minorgridcolor": "#C8D4E3",
             "startlinecolor": "#2a3f5f"
            },
            "type": "carpet"
           }
          ],
          "choropleth": [
           {
            "colorbar": {
             "outlinewidth": 0,
             "ticks": ""
            },
            "type": "choropleth"
           }
          ],
          "contour": [
           {
            "colorbar": {
             "outlinewidth": 0,
             "ticks": ""
            },
            "colorscale": [
             [
              0,
              "#0d0887"
             ],
             [
              0.1111111111111111,
              "#46039f"
             ],
             [
              0.2222222222222222,
              "#7201a8"
             ],
             [
              0.3333333333333333,
              "#9c179e"
             ],
             [
              0.4444444444444444,
              "#bd3786"
             ],
             [
              0.5555555555555556,
              "#d8576b"
             ],
             [
              0.6666666666666666,
              "#ed7953"
             ],
             [
              0.7777777777777778,
              "#fb9f3a"
             ],
             [
              0.8888888888888888,
              "#fdca26"
             ],
             [
              1,
              "#f0f921"
             ]
            ],
            "type": "contour"
           }
          ],
          "contourcarpet": [
           {
            "colorbar": {
             "outlinewidth": 0,
             "ticks": ""
            },
            "type": "contourcarpet"
           }
          ],
          "heatmap": [
           {
            "colorbar": {
             "outlinewidth": 0,
             "ticks": ""
            },
            "colorscale": [
             [
              0,
              "#0d0887"
             ],
             [
              0.1111111111111111,
              "#46039f"
             ],
             [
              0.2222222222222222,
              "#7201a8"
             ],
             [
              0.3333333333333333,
              "#9c179e"
             ],
             [
              0.4444444444444444,
              "#bd3786"
             ],
             [
              0.5555555555555556,
              "#d8576b"
             ],
             [
              0.6666666666666666,
              "#ed7953"
             ],
             [
              0.7777777777777778,
              "#fb9f3a"
             ],
             [
              0.8888888888888888,
              "#fdca26"
             ],
             [
              1,
              "#f0f921"
             ]
            ],
            "type": "heatmap"
           }
          ],
          "heatmapgl": [
           {
            "colorbar": {
             "outlinewidth": 0,
             "ticks": ""
            },
            "colorscale": [
             [
              0,
              "#0d0887"
             ],
             [
              0.1111111111111111,
              "#46039f"
             ],
             [
              0.2222222222222222,
              "#7201a8"
             ],
             [
              0.3333333333333333,
              "#9c179e"
             ],
             [
              0.4444444444444444,
              "#bd3786"
             ],
             [
              0.5555555555555556,
              "#d8576b"
             ],
             [
              0.6666666666666666,
              "#ed7953"
             ],
             [
              0.7777777777777778,
              "#fb9f3a"
             ],
             [
              0.8888888888888888,
              "#fdca26"
             ],
             [
              1,
              "#f0f921"
             ]
            ],
            "type": "heatmapgl"
           }
          ],
          "histogram": [
           {
            "marker": {
             "pattern": {
              "fillmode": "overlay",
              "size": 10,
              "solidity": 0.2
             }
            },
            "type": "histogram"
           }
          ],
          "histogram2d": [
           {
            "colorbar": {
             "outlinewidth": 0,
             "ticks": ""
            },
            "colorscale": [
             [
              0,
              "#0d0887"
             ],
             [
              0.1111111111111111,
              "#46039f"
             ],
             [
              0.2222222222222222,
              "#7201a8"
             ],
             [
              0.3333333333333333,
              "#9c179e"
             ],
             [
              0.4444444444444444,
              "#bd3786"
             ],
             [
              0.5555555555555556,
              "#d8576b"
             ],
             [
              0.6666666666666666,
              "#ed7953"
             ],
             [
              0.7777777777777778,
              "#fb9f3a"
             ],
             [
              0.8888888888888888,
              "#fdca26"
             ],
             [
              1,
              "#f0f921"
             ]
            ],
            "type": "histogram2d"
           }
          ],
          "histogram2dcontour": [
           {
            "colorbar": {
             "outlinewidth": 0,
             "ticks": ""
            },
            "colorscale": [
             [
              0,
              "#0d0887"
             ],
             [
              0.1111111111111111,
              "#46039f"
             ],
             [
              0.2222222222222222,
              "#7201a8"
             ],
             [
              0.3333333333333333,
              "#9c179e"
             ],
             [
              0.4444444444444444,
              "#bd3786"
             ],
             [
              0.5555555555555556,
              "#d8576b"
             ],
             [
              0.6666666666666666,
              "#ed7953"
             ],
             [
              0.7777777777777778,
              "#fb9f3a"
             ],
             [
              0.8888888888888888,
              "#fdca26"
             ],
             [
              1,
              "#f0f921"
             ]
            ],
            "type": "histogram2dcontour"
           }
          ],
          "mesh3d": [
           {
            "colorbar": {
             "outlinewidth": 0,
             "ticks": ""
            },
            "type": "mesh3d"
           }
          ],
          "parcoords": [
           {
            "line": {
             "colorbar": {
              "outlinewidth": 0,
              "ticks": ""
             }
            },
            "type": "parcoords"
           }
          ],
          "pie": [
           {
            "automargin": true,
            "type": "pie"
           }
          ],
          "scatter": [
           {
            "fillpattern": {
             "fillmode": "overlay",
             "size": 10,
             "solidity": 0.2
            },
            "type": "scatter"
           }
          ],
          "scatter3d": [
           {
            "line": {
             "colorbar": {
              "outlinewidth": 0,
              "ticks": ""
             }
            },
            "marker": {
             "colorbar": {
              "outlinewidth": 0,
              "ticks": ""
             }
            },
            "type": "scatter3d"
           }
          ],
          "scattercarpet": [
           {
            "marker": {
             "colorbar": {
              "outlinewidth": 0,
              "ticks": ""
             }
            },
            "type": "scattercarpet"
           }
          ],
          "scattergeo": [
           {
            "marker": {
             "colorbar": {
              "outlinewidth": 0,
              "ticks": ""
             }
            },
            "type": "scattergeo"
           }
          ],
          "scattergl": [
           {
            "marker": {
             "colorbar": {
              "outlinewidth": 0,
              "ticks": ""
             }
            },
            "type": "scattergl"
           }
          ],
          "scattermapbox": [
           {
            "marker": {
             "colorbar": {
              "outlinewidth": 0,
              "ticks": ""
             }
            },
            "type": "scattermapbox"
           }
          ],
          "scatterpolar": [
           {
            "marker": {
             "colorbar": {
              "outlinewidth": 0,
              "ticks": ""
             }
            },
            "type": "scatterpolar"
           }
          ],
          "scatterpolargl": [
           {
            "marker": {
             "colorbar": {
              "outlinewidth": 0,
              "ticks": ""
             }
            },
            "type": "scatterpolargl"
           }
          ],
          "scatterternary": [
           {
            "marker": {
             "colorbar": {
              "outlinewidth": 0,
              "ticks": ""
             }
            },
            "type": "scatterternary"
           }
          ],
          "surface": [
           {
            "colorbar": {
             "outlinewidth": 0,
             "ticks": ""
            },
            "colorscale": [
             [
              0,
              "#0d0887"
             ],
             [
              0.1111111111111111,
              "#46039f"
             ],
             [
              0.2222222222222222,
              "#7201a8"
             ],
             [
              0.3333333333333333,
              "#9c179e"
             ],
             [
              0.4444444444444444,
              "#bd3786"
             ],
             [
              0.5555555555555556,
              "#d8576b"
             ],
             [
              0.6666666666666666,
              "#ed7953"
             ],
             [
              0.7777777777777778,
              "#fb9f3a"
             ],
             [
              0.8888888888888888,
              "#fdca26"
             ],
             [
              1,
              "#f0f921"
             ]
            ],
            "type": "surface"
           }
          ],
          "table": [
           {
            "cells": {
             "fill": {
              "color": "#EBF0F8"
             },
             "line": {
              "color": "white"
             }
            },
            "header": {
             "fill": {
              "color": "#C8D4E3"
             },
             "line": {
              "color": "white"
             }
            },
            "type": "table"
           }
          ]
         },
         "layout": {
          "annotationdefaults": {
           "arrowcolor": "#2a3f5f",
           "arrowhead": 0,
           "arrowwidth": 1
          },
          "autotypenumbers": "strict",
          "coloraxis": {
           "colorbar": {
            "outlinewidth": 0,
            "ticks": ""
           }
          },
          "colorscale": {
           "diverging": [
            [
             0,
             "#8e0152"
            ],
            [
             0.1,
             "#c51b7d"
            ],
            [
             0.2,
             "#de77ae"
            ],
            [
             0.3,
             "#f1b6da"
            ],
            [
             0.4,
             "#fde0ef"
            ],
            [
             0.5,
             "#f7f7f7"
            ],
            [
             0.6,
             "#e6f5d0"
            ],
            [
             0.7,
             "#b8e186"
            ],
            [
             0.8,
             "#7fbc41"
            ],
            [
             0.9,
             "#4d9221"
            ],
            [
             1,
             "#276419"
            ]
           ],
           "sequential": [
            [
             0,
             "#0d0887"
            ],
            [
             0.1111111111111111,
             "#46039f"
            ],
            [
             0.2222222222222222,
             "#7201a8"
            ],
            [
             0.3333333333333333,
             "#9c179e"
            ],
            [
             0.4444444444444444,
             "#bd3786"
            ],
            [
             0.5555555555555556,
             "#d8576b"
            ],
            [
             0.6666666666666666,
             "#ed7953"
            ],
            [
             0.7777777777777778,
             "#fb9f3a"
            ],
            [
             0.8888888888888888,
             "#fdca26"
            ],
            [
             1,
             "#f0f921"
            ]
           ],
           "sequentialminus": [
            [
             0,
             "#0d0887"
            ],
            [
             0.1111111111111111,
             "#46039f"
            ],
            [
             0.2222222222222222,
             "#7201a8"
            ],
            [
             0.3333333333333333,
             "#9c179e"
            ],
            [
             0.4444444444444444,
             "#bd3786"
            ],
            [
             0.5555555555555556,
             "#d8576b"
            ],
            [
             0.6666666666666666,
             "#ed7953"
            ],
            [
             0.7777777777777778,
             "#fb9f3a"
            ],
            [
             0.8888888888888888,
             "#fdca26"
            ],
            [
             1,
             "#f0f921"
            ]
           ]
          },
          "colorway": [
           "#636efa",
           "#EF553B",
           "#00cc96",
           "#ab63fa",
           "#FFA15A",
           "#19d3f3",
           "#FF6692",
           "#B6E880",
           "#FF97FF",
           "#FECB52"
          ],
          "font": {
           "color": "#2a3f5f"
          },
          "geo": {
           "bgcolor": "white",
           "lakecolor": "white",
           "landcolor": "white",
           "showlakes": true,
           "showland": true,
           "subunitcolor": "#C8D4E3"
          },
          "hoverlabel": {
           "align": "left"
          },
          "hovermode": "closest",
          "mapbox": {
           "style": "light"
          },
          "paper_bgcolor": "white",
          "plot_bgcolor": "white",
          "polar": {
           "angularaxis": {
            "gridcolor": "#EBF0F8",
            "linecolor": "#EBF0F8",
            "ticks": ""
           },
           "bgcolor": "white",
           "radialaxis": {
            "gridcolor": "#EBF0F8",
            "linecolor": "#EBF0F8",
            "ticks": ""
           }
          },
          "scene": {
           "xaxis": {
            "backgroundcolor": "white",
            "gridcolor": "#DFE8F3",
            "gridwidth": 2,
            "linecolor": "#EBF0F8",
            "showbackground": true,
            "ticks": "",
            "zerolinecolor": "#EBF0F8"
           },
           "yaxis": {
            "backgroundcolor": "white",
            "gridcolor": "#DFE8F3",
            "gridwidth": 2,
            "linecolor": "#EBF0F8",
            "showbackground": true,
            "ticks": "",
            "zerolinecolor": "#EBF0F8"
           },
           "zaxis": {
            "backgroundcolor": "white",
            "gridcolor": "#DFE8F3",
            "gridwidth": 2,
            "linecolor": "#EBF0F8",
            "showbackground": true,
            "ticks": "",
            "zerolinecolor": "#EBF0F8"
           }
          },
          "shapedefaults": {
           "line": {
            "color": "#2a3f5f"
           }
          },
          "ternary": {
           "aaxis": {
            "gridcolor": "#DFE8F3",
            "linecolor": "#A2B1C6",
            "ticks": ""
           },
           "baxis": {
            "gridcolor": "#DFE8F3",
            "linecolor": "#A2B1C6",
            "ticks": ""
           },
           "bgcolor": "white",
           "caxis": {
            "gridcolor": "#DFE8F3",
            "linecolor": "#A2B1C6",
            "ticks": ""
           }
          },
          "title": {
           "x": 0.05
          },
          "xaxis": {
           "automargin": true,
           "gridcolor": "#EBF0F8",
           "linecolor": "#EBF0F8",
           "ticks": "",
           "title": {
            "standoff": 15
           },
           "zerolinecolor": "#EBF0F8",
           "zerolinewidth": 2
          },
          "yaxis": {
           "automargin": true,
           "gridcolor": "#EBF0F8",
           "linecolor": "#EBF0F8",
           "ticks": "",
           "title": {
            "standoff": 15
           },
           "zerolinecolor": "#EBF0F8",
           "zerolinewidth": 2
          }
         }
        },
        "title": {
         "text": "Cumulative Returns of Optimized Portfolio vs. Assets (Backtest Period 9, Target R 0.04)"
        },
        "width": 850,
        "xaxis": {
         "title": {
          "text": "Date"
         }
        },
        "yaxis": {
         "title": {
          "text": "Cumulative Returns"
         }
        }
       }
      }
     },
     "metadata": {},
     "output_type": "display_data"
    }
   ],
   "source": [
    "# Function to plot cumulative returns\n",
    "def plot_cumulative_returns(backtest_period, daily_returns, opt_weights_df, targ_ret, save_path=None):\n",
    "    targ = {i/200: i for i in range(21)}\n",
    "\n",
    "    # Extract the corresponding out-of-sample daily returns data\n",
    "    start_idx = backtest_period * 12 + 100\n",
    "    end_idx = 100 + (backtest_period + 1) * 12\n",
    "    OOS = daily_returns.iloc[start_idx:end_idx, :]\n",
    "    opt_weights = opt_weights_df[backtest_period][1].iloc[targ[targ_ret], :-2].values\n",
    "\n",
    "    # Calculate cumulative returns for each asset\n",
    "    cumulative_returns = (1 + OOS).cumprod()\n",
    "\n",
    "    # Calculate cumulative returns for the optimized portfolio\n",
    "    portfolio_returns = OOS.dot(opt_weights)\n",
    "    cumulative_portfolio_returns = (1 + portfolio_returns).cumprod()\n",
    "\n",
    "    # Create the figure\n",
    "    fig = go.Figure()\n",
    "\n",
    "    # Add traces for each asset\n",
    "    for asset in cumulative_returns.columns:\n",
    "        fig.add_trace(go.Scatter(\n",
    "            x=cumulative_returns.index,\n",
    "            y=cumulative_returns[asset],\n",
    "            mode='lines',\n",
    "            name=asset\n",
    "        ))\n",
    "\n",
    "    # Add trace for the optimized portfolio\n",
    "    fig.add_trace(go.Scatter(\n",
    "        x=cumulative_portfolio_returns.index,\n",
    "        y=cumulative_portfolio_returns,\n",
    "        mode='lines',\n",
    "        name='Optimized Portfolio',\n",
    "        line=dict(width=3, color='black')\n",
    "    ))\n",
    "\n",
    "    # Update layout\n",
    "    fig.update_layout(\n",
    "        template='plotly_white',  # Generic formatting\n",
    "        xaxis=dict(title='Date'),\n",
    "        yaxis=dict(title='Cumulative Returns'),\n",
    "        title=f'Cumulative Returns of Optimized Portfolio vs. Assets (Backtest Period {backtest_period}, Target R {targ_ret})',\n",
    "        width=850,\n",
    "        height=500,\n",
    "        showlegend=False\n",
    "    )\n",
    "    # Save the figure if a save path is provided\n",
    "    if save_path:\n",
    "        fig.write_image(save_path)\n",
    "\n",
    "    fig.show()\n",
    "\n",
    "plot_cumulative_returns(backtest_period, daily_returns, cpp_results_dict, targ_ret=0.04, save_path='cumulative_Rets.png')"
   ]
  }
 ],
 "metadata": {
  "kernelspec": {
   "display_name": "Python 3",
   "language": "python",
   "name": "python3"
  },
  "language_info": {
   "codemirror_mode": {
    "name": "ipython",
    "version": 3
   },
   "file_extension": ".py",
   "mimetype": "text/x-python",
   "name": "python",
   "nbconvert_exporter": "python",
   "pygments_lexer": "ipython3",
   "version": "3.12.0"
  }
 },
 "nbformat": 4,
 "nbformat_minor": 2
}
